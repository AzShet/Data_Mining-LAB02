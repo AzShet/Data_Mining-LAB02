{
 "cells": [
  {
   "cell_type": "markdown",
   "id": "301d38c1",
   "metadata": {},
   "source": [
    "# Laboratory 2 of Data Mining\n",
    "### Student:\n",
    "### César Diego Ruelas Flores"
   ]
  },
  {
   "cell_type": "markdown",
   "id": "6ad7ba47",
   "metadata": {
    "vscode": {
     "languageId": "plaintext"
    }
   },
   "source": [
    "#### a. Create a virtual environment in Anaconda named 'pycaret-clf' with Python version 3.11.9. Then, install the PyCaret library and load the 'diabetes' data."
   ]
  },
  {
   "cell_type": "code",
   "execution_count": 5,
   "id": "0aae0d90",
   "metadata": {},
   "outputs": [
    {
     "name": "stdout",
     "output_type": "stream",
     "text": [
      "Defaulting to user installation because normal site-packages is not writeable\n",
      "Requirement already satisfied: pandas in c:\\programdata\\anaconda3\\lib\\site-packages (2.0.3)\n",
      "Requirement already satisfied: python-dateutil>=2.8.2 in c:\\programdata\\anaconda3\\lib\\site-packages (from pandas) (2.8.2)\n",
      "Requirement already satisfied: pytz>=2020.1 in c:\\programdata\\anaconda3\\lib\\site-packages (from pandas) (2023.3.post1)\n",
      "Requirement already satisfied: tzdata>=2022.1 in c:\\programdata\\anaconda3\\lib\\site-packages (from pandas) (2023.3)\n",
      "Requirement already satisfied: numpy>=1.21.0 in c:\\users\\azshet\\appdata\\roaming\\python\\python311\\site-packages (from pandas) (1.26.4)\n",
      "Requirement already satisfied: six>=1.5 in c:\\programdata\\anaconda3\\lib\\site-packages (from python-dateutil>=2.8.2->pandas) (1.16.0)\n",
      "Note: you may need to restart the kernel to use updated packages.\n"
     ]
    }
   ],
   "source": [
    "pip install pandas"
   ]
  },
  {
   "cell_type": "code",
   "execution_count": 3,
   "id": "266866b3",
   "metadata": {},
   "outputs": [
    {
     "name": "stdout",
     "output_type": "stream",
     "text": [
      "Defaulting to user installation because normal site-packages is not writeable\n",
      "Requirement already satisfied: numpy==1.26.4 in c:\\users\\azshet\\appdata\\roaming\\python\\python311\\site-packages (1.26.4)\n",
      "Note: you may need to restart the kernel to use updated packages.\n"
     ]
    }
   ],
   "source": [
    "pip install numpy==1.26.4"
   ]
  },
  {
   "cell_type": "code",
   "execution_count": 1,
   "id": "3a5f92f5",
   "metadata": {},
   "outputs": [],
   "source": [
    "import pandas as pd\n",
    "data = pd.read_csv('diabetes.csv')"
   ]
  },
  {
   "cell_type": "code",
   "execution_count": 2,
   "id": "81025e8d-dcb2-480a-8c37-e5dae6cb2e27",
   "metadata": {},
   "outputs": [
    {
     "name": "stdout",
     "output_type": "stream",
     "text": [
      "(768, 9)\n"
     ]
    }
   ],
   "source": [
    "print(data.shape)"
   ]
  },
  {
   "cell_type": "code",
   "execution_count": 3,
   "id": "82c1cd1b-8901-4e10-b00f-cda51dc87d9b",
   "metadata": {},
   "outputs": [
    {
     "name": "stdout",
     "output_type": "stream",
     "text": [
      "Index(['Pregnancies', 'Glucose', 'BloodPressure', 'SkinThickness', 'Insulin',\n",
      "       'BMI', 'DiabetesPedigreeFunction', 'Age', 'Outcome'],\n",
      "      dtype='object')\n"
     ]
    }
   ],
   "source": [
    "print(data.columns)"
   ]
  },
  {
   "cell_type": "code",
   "execution_count": 4,
   "id": "db0a0441-dbfb-4ee6-9885-7c08db17250d",
   "metadata": {},
   "outputs": [
    {
     "name": "stdout",
     "output_type": "stream",
     "text": [
      "   Pregnancies  Glucose  BloodPressure  SkinThickness  Insulin   BMI  \\\n",
      "0            6      148             72             35        0  33.6   \n",
      "1            1       85             66             29        0  26.6   \n",
      "2            8      183             64              0        0  23.3   \n",
      "3            1       89             66             23       94  28.1   \n",
      "4            0      137             40             35      168  43.1   \n",
      "\n",
      "   DiabetesPedigreeFunction  Age  Outcome  \n",
      "0                     0.627   50        1  \n",
      "1                     0.351   31        0  \n",
      "2                     0.672   32        1  \n",
      "3                     0.167   21        0  \n",
      "4                     2.288   33        1  \n"
     ]
    }
   ],
   "source": [
    "print(data.head())"
   ]
  },
  {
   "cell_type": "markdown",
   "id": "aafca45c",
   "metadata": {},
   "source": [
    "sin pandas"
   ]
  },
  {
   "cell_type": "code",
   "execution_count": 2,
   "id": "a1cc60ab",
   "metadata": {},
   "outputs": [
    {
     "data": {
      "text/html": [
       "<div>\n",
       "<style scoped>\n",
       "    .dataframe tbody tr th:only-of-type {\n",
       "        vertical-align: middle;\n",
       "    }\n",
       "\n",
       "    .dataframe tbody tr th {\n",
       "        vertical-align: top;\n",
       "    }\n",
       "\n",
       "    .dataframe thead th {\n",
       "        text-align: right;\n",
       "    }\n",
       "</style>\n",
       "<table border=\"1\" class=\"dataframe\">\n",
       "  <thead>\n",
       "    <tr style=\"text-align: right;\">\n",
       "      <th></th>\n",
       "      <th>Pregnancies</th>\n",
       "      <th>Glucose</th>\n",
       "      <th>BloodPressure</th>\n",
       "      <th>SkinThickness</th>\n",
       "      <th>Insulin</th>\n",
       "      <th>BMI</th>\n",
       "      <th>DiabetesPedigreeFunction</th>\n",
       "      <th>Age</th>\n",
       "      <th>Outcome</th>\n",
       "    </tr>\n",
       "  </thead>\n",
       "  <tbody>\n",
       "    <tr>\n",
       "      <th>0</th>\n",
       "      <td>6</td>\n",
       "      <td>148</td>\n",
       "      <td>72</td>\n",
       "      <td>35</td>\n",
       "      <td>0</td>\n",
       "      <td>33.6</td>\n",
       "      <td>0.627</td>\n",
       "      <td>50</td>\n",
       "      <td>1</td>\n",
       "    </tr>\n",
       "    <tr>\n",
       "      <th>1</th>\n",
       "      <td>1</td>\n",
       "      <td>85</td>\n",
       "      <td>66</td>\n",
       "      <td>29</td>\n",
       "      <td>0</td>\n",
       "      <td>26.6</td>\n",
       "      <td>0.351</td>\n",
       "      <td>31</td>\n",
       "      <td>0</td>\n",
       "    </tr>\n",
       "    <tr>\n",
       "      <th>2</th>\n",
       "      <td>8</td>\n",
       "      <td>183</td>\n",
       "      <td>64</td>\n",
       "      <td>0</td>\n",
       "      <td>0</td>\n",
       "      <td>23.3</td>\n",
       "      <td>0.672</td>\n",
       "      <td>32</td>\n",
       "      <td>1</td>\n",
       "    </tr>\n",
       "    <tr>\n",
       "      <th>3</th>\n",
       "      <td>1</td>\n",
       "      <td>89</td>\n",
       "      <td>66</td>\n",
       "      <td>23</td>\n",
       "      <td>94</td>\n",
       "      <td>28.1</td>\n",
       "      <td>0.167</td>\n",
       "      <td>21</td>\n",
       "      <td>0</td>\n",
       "    </tr>\n",
       "    <tr>\n",
       "      <th>4</th>\n",
       "      <td>0</td>\n",
       "      <td>137</td>\n",
       "      <td>40</td>\n",
       "      <td>35</td>\n",
       "      <td>168</td>\n",
       "      <td>43.1</td>\n",
       "      <td>2.288</td>\n",
       "      <td>33</td>\n",
       "      <td>1</td>\n",
       "    </tr>\n",
       "  </tbody>\n",
       "</table>\n",
       "</div>"
      ],
      "text/plain": [
       "   Pregnancies  Glucose  BloodPressure  SkinThickness  Insulin   BMI  \\\n",
       "0            6      148             72             35        0  33.6   \n",
       "1            1       85             66             29        0  26.6   \n",
       "2            8      183             64              0        0  23.3   \n",
       "3            1       89             66             23       94  28.1   \n",
       "4            0      137             40             35      168  43.1   \n",
       "\n",
       "   DiabetesPedigreeFunction  Age  Outcome  \n",
       "0                     0.627   50        1  \n",
       "1                     0.351   31        0  \n",
       "2                     0.672   32        1  \n",
       "3                     0.167   21        0  \n",
       "4                     2.288   33        1  "
      ]
     },
     "metadata": {},
     "output_type": "display_data"
    }
   ],
   "source": [
    "# load sample dataset\n",
    "from pycaret.datasets import get_data\n",
    "data = get_data('diabetes')"
   ]
  },
  {
   "cell_type": "code",
   "execution_count": 3,
   "id": "b80ef45e-fdf0-4f3b-ac70-533aace8910b",
   "metadata": {},
   "outputs": [
    {
     "data": {
      "text/html": [
       "<style type=\"text/css\">\n",
       "#T_950a3_row8_col1, #T_950a3_row12_col1 {\n",
       "  background-color: lightgreen;\n",
       "}\n",
       "</style>\n",
       "<table id=\"T_950a3\">\n",
       "  <thead>\n",
       "    <tr>\n",
       "      <th class=\"blank level0\" >&nbsp;</th>\n",
       "      <th id=\"T_950a3_level0_col0\" class=\"col_heading level0 col0\" >Description</th>\n",
       "      <th id=\"T_950a3_level0_col1\" class=\"col_heading level0 col1\" >Value</th>\n",
       "    </tr>\n",
       "  </thead>\n",
       "  <tbody>\n",
       "    <tr>\n",
       "      <th id=\"T_950a3_level0_row0\" class=\"row_heading level0 row0\" >0</th>\n",
       "      <td id=\"T_950a3_row0_col0\" class=\"data row0 col0\" >Session id</td>\n",
       "      <td id=\"T_950a3_row0_col1\" class=\"data row0 col1\" >123</td>\n",
       "    </tr>\n",
       "    <tr>\n",
       "      <th id=\"T_950a3_level0_row1\" class=\"row_heading level0 row1\" >1</th>\n",
       "      <td id=\"T_950a3_row1_col0\" class=\"data row1 col0\" >Target</td>\n",
       "      <td id=\"T_950a3_row1_col1\" class=\"data row1 col1\" >Outcome</td>\n",
       "    </tr>\n",
       "    <tr>\n",
       "      <th id=\"T_950a3_level0_row2\" class=\"row_heading level0 row2\" >2</th>\n",
       "      <td id=\"T_950a3_row2_col0\" class=\"data row2 col0\" >Target type</td>\n",
       "      <td id=\"T_950a3_row2_col1\" class=\"data row2 col1\" >Binary</td>\n",
       "    </tr>\n",
       "    <tr>\n",
       "      <th id=\"T_950a3_level0_row3\" class=\"row_heading level0 row3\" >3</th>\n",
       "      <td id=\"T_950a3_row3_col0\" class=\"data row3 col0\" >Original data shape</td>\n",
       "      <td id=\"T_950a3_row3_col1\" class=\"data row3 col1\" >(768, 9)</td>\n",
       "    </tr>\n",
       "    <tr>\n",
       "      <th id=\"T_950a3_level0_row4\" class=\"row_heading level0 row4\" >4</th>\n",
       "      <td id=\"T_950a3_row4_col0\" class=\"data row4 col0\" >Transformed data shape</td>\n",
       "      <td id=\"T_950a3_row4_col1\" class=\"data row4 col1\" >(768, 9)</td>\n",
       "    </tr>\n",
       "    <tr>\n",
       "      <th id=\"T_950a3_level0_row5\" class=\"row_heading level0 row5\" >5</th>\n",
       "      <td id=\"T_950a3_row5_col0\" class=\"data row5 col0\" >Transformed train set shape</td>\n",
       "      <td id=\"T_950a3_row5_col1\" class=\"data row5 col1\" >(537, 9)</td>\n",
       "    </tr>\n",
       "    <tr>\n",
       "      <th id=\"T_950a3_level0_row6\" class=\"row_heading level0 row6\" >6</th>\n",
       "      <td id=\"T_950a3_row6_col0\" class=\"data row6 col0\" >Transformed test set shape</td>\n",
       "      <td id=\"T_950a3_row6_col1\" class=\"data row6 col1\" >(231, 9)</td>\n",
       "    </tr>\n",
       "    <tr>\n",
       "      <th id=\"T_950a3_level0_row7\" class=\"row_heading level0 row7\" >7</th>\n",
       "      <td id=\"T_950a3_row7_col0\" class=\"data row7 col0\" >Numeric features</td>\n",
       "      <td id=\"T_950a3_row7_col1\" class=\"data row7 col1\" >8</td>\n",
       "    </tr>\n",
       "    <tr>\n",
       "      <th id=\"T_950a3_level0_row8\" class=\"row_heading level0 row8\" >8</th>\n",
       "      <td id=\"T_950a3_row8_col0\" class=\"data row8 col0\" >Preprocess</td>\n",
       "      <td id=\"T_950a3_row8_col1\" class=\"data row8 col1\" >True</td>\n",
       "    </tr>\n",
       "    <tr>\n",
       "      <th id=\"T_950a3_level0_row9\" class=\"row_heading level0 row9\" >9</th>\n",
       "      <td id=\"T_950a3_row9_col0\" class=\"data row9 col0\" >Imputation type</td>\n",
       "      <td id=\"T_950a3_row9_col1\" class=\"data row9 col1\" >simple</td>\n",
       "    </tr>\n",
       "    <tr>\n",
       "      <th id=\"T_950a3_level0_row10\" class=\"row_heading level0 row10\" >10</th>\n",
       "      <td id=\"T_950a3_row10_col0\" class=\"data row10 col0\" >Numeric imputation</td>\n",
       "      <td id=\"T_950a3_row10_col1\" class=\"data row10 col1\" >mean</td>\n",
       "    </tr>\n",
       "    <tr>\n",
       "      <th id=\"T_950a3_level0_row11\" class=\"row_heading level0 row11\" >11</th>\n",
       "      <td id=\"T_950a3_row11_col0\" class=\"data row11 col0\" >Categorical imputation</td>\n",
       "      <td id=\"T_950a3_row11_col1\" class=\"data row11 col1\" >mode</td>\n",
       "    </tr>\n",
       "    <tr>\n",
       "      <th id=\"T_950a3_level0_row12\" class=\"row_heading level0 row12\" >12</th>\n",
       "      <td id=\"T_950a3_row12_col0\" class=\"data row12 col0\" >Normalize</td>\n",
       "      <td id=\"T_950a3_row12_col1\" class=\"data row12 col1\" >True</td>\n",
       "    </tr>\n",
       "    <tr>\n",
       "      <th id=\"T_950a3_level0_row13\" class=\"row_heading level0 row13\" >13</th>\n",
       "      <td id=\"T_950a3_row13_col0\" class=\"data row13 col0\" >Normalize method</td>\n",
       "      <td id=\"T_950a3_row13_col1\" class=\"data row13 col1\" >zscore</td>\n",
       "    </tr>\n",
       "    <tr>\n",
       "      <th id=\"T_950a3_level0_row14\" class=\"row_heading level0 row14\" >14</th>\n",
       "      <td id=\"T_950a3_row14_col0\" class=\"data row14 col0\" >Fold Generator</td>\n",
       "      <td id=\"T_950a3_row14_col1\" class=\"data row14 col1\" >StratifiedKFold</td>\n",
       "    </tr>\n",
       "    <tr>\n",
       "      <th id=\"T_950a3_level0_row15\" class=\"row_heading level0 row15\" >15</th>\n",
       "      <td id=\"T_950a3_row15_col0\" class=\"data row15 col0\" >Fold Number</td>\n",
       "      <td id=\"T_950a3_row15_col1\" class=\"data row15 col1\" >10</td>\n",
       "    </tr>\n",
       "    <tr>\n",
       "      <th id=\"T_950a3_level0_row16\" class=\"row_heading level0 row16\" >16</th>\n",
       "      <td id=\"T_950a3_row16_col0\" class=\"data row16 col0\" >CPU Jobs</td>\n",
       "      <td id=\"T_950a3_row16_col1\" class=\"data row16 col1\" >-1</td>\n",
       "    </tr>\n",
       "    <tr>\n",
       "      <th id=\"T_950a3_level0_row17\" class=\"row_heading level0 row17\" >17</th>\n",
       "      <td id=\"T_950a3_row17_col0\" class=\"data row17 col0\" >Use GPU</td>\n",
       "      <td id=\"T_950a3_row17_col1\" class=\"data row17 col1\" >False</td>\n",
       "    </tr>\n",
       "    <tr>\n",
       "      <th id=\"T_950a3_level0_row18\" class=\"row_heading level0 row18\" >18</th>\n",
       "      <td id=\"T_950a3_row18_col0\" class=\"data row18 col0\" >Log Experiment</td>\n",
       "      <td id=\"T_950a3_row18_col1\" class=\"data row18 col1\" >False</td>\n",
       "    </tr>\n",
       "    <tr>\n",
       "      <th id=\"T_950a3_level0_row19\" class=\"row_heading level0 row19\" >19</th>\n",
       "      <td id=\"T_950a3_row19_col0\" class=\"data row19 col0\" >Experiment Name</td>\n",
       "      <td id=\"T_950a3_row19_col1\" class=\"data row19 col1\" >clf-default-name</td>\n",
       "    </tr>\n",
       "    <tr>\n",
       "      <th id=\"T_950a3_level0_row20\" class=\"row_heading level0 row20\" >20</th>\n",
       "      <td id=\"T_950a3_row20_col0\" class=\"data row20 col0\" >USI</td>\n",
       "      <td id=\"T_950a3_row20_col1\" class=\"data row20 col1\" >5388</td>\n",
       "    </tr>\n",
       "  </tbody>\n",
       "</table>\n"
      ],
      "text/plain": [
       "<pandas.io.formats.style.Styler at 0x22592e1bd50>"
      ]
     },
     "metadata": {},
     "output_type": "display_data"
    }
   ],
   "source": [
    "from pycaret.classification import *\n",
    "# tomando el entorno\n",
    "clf_setup = setup(data, target='Outcome', session_id=123, normalize=True)"
   ]
  },
  {
   "cell_type": "code",
   "execution_count": null,
   "id": "b0a5b27f",
   "metadata": {},
   "outputs": [
    {
     "name": "stdout",
     "output_type": "stream",
     "text": [
      "Defaulting to user installation because normal site-packages is not writeable\n",
      "Requirement already satisfied: threadpoolctl in c:\\programdata\\anaconda3\\lib\\site-packages (2.2.0)\n",
      "Collecting threadpoolctl\n",
      "  Obtaining dependency information for threadpoolctl from https://files.pythonhosted.org/packages/32/d5/f9a850d79b0851d1d4ef6456097579a9005b31fea68726a4ae5f2d82ddd9/threadpoolctl-3.6.0-py3-none-any.whl.metadata\n",
      "  Downloading threadpoolctl-3.6.0-py3-none-any.whl.metadata (13 kB)\n",
      "Downloading threadpoolctl-3.6.0-py3-none-any.whl (18 kB)\n",
      "Installing collected packages: threadpoolctl\n",
      "Successfully installed threadpoolctl-3.6.0\n",
      "Note: you may need to restart the kernel to use updated packages.\n"
     ]
    }
   ],
   "source": [
    "# pip install --upgrade threadpoolctl"
   ]
  },
  {
   "cell_type": "markdown",
   "id": "108b7c8a",
   "metadata": {},
   "source": [
    "#### b. Create a report for a classification model using \"Outcome\" as the target variable, comparing all the classification models included in PyCaret and evaluating them using their performance metrics. Additionally, make predictions for the best model and tune its hyperparameters."
   ]
  },
  {
   "cell_type": "markdown",
   "id": "cb811ae8-f0e5-4ca5-ab3d-06f7471c3f6b",
   "metadata": {},
   "source": [
    "Comparando los modelos de clasificación"
   ]
  },
  {
   "cell_type": "code",
   "execution_count": 6,
   "id": "3fd6569f",
   "metadata": {},
   "outputs": [
    {
     "data": {
      "text/html": [],
      "text/plain": [
       "<IPython.core.display.HTML object>"
      ]
     },
     "metadata": {},
     "output_type": "display_data"
    },
    {
     "data": {
      "text/html": [],
      "text/plain": [
       "<IPython.core.display.HTML object>"
      ]
     },
     "metadata": {},
     "output_type": "display_data"
    },
    {
     "data": {
      "text/html": [],
      "text/plain": [
       "<IPython.core.display.HTML object>"
      ]
     },
     "metadata": {},
     "output_type": "display_data"
    },
    {
     "name": "stdout",
     "output_type": "stream",
     "text": [
      "Mejor modelo: LogisticRegression(C=1.0, class_weight=None, dual=False, fit_intercept=True,\n",
      "                   intercept_scaling=1, l1_ratio=None, max_iter=1000,\n",
      "                   multi_class='auto', n_jobs=None, penalty='l2',\n",
      "                   random_state=123, solver='lbfgs', tol=0.0001, verbose=0,\n",
      "                   warm_start=False)\n"
     ]
    }
   ],
   "source": [
    "best_model = compare_models()\n",
    "\n",
    "# Mostrar el modelo generado\n",
    "print(\"Mejor modelo:\", best_model)"
   ]
  },
  {
   "cell_type": "code",
   "execution_count": 7,
   "id": "d4e58954-7bc0-457e-b944-ea9453a091bd",
   "metadata": {},
   "outputs": [
    {
     "data": {
      "application/vnd.jupyter.widget-view+json": {
       "model_id": "50fa7cd117a1461ab8241321e99b6d87",
       "version_major": 2,
       "version_minor": 0
      },
      "text/plain": [
       "interactive(children=(ToggleButtons(description='Plot Type:', icons=('',), options=(('Pipeline Plot', 'pipelin…"
      ]
     },
     "metadata": {},
     "output_type": "display_data"
    }
   ],
   "source": [
    "# evaluamos el el mejor modelo encontrado\n",
    "evaluate_model(best_model)"
   ]
  },
  {
   "cell_type": "markdown",
   "id": "fccbd4c4-e518-49fd-ab1c-f3e2644bba9d",
   "metadata": {},
   "source": [
    "ahora realizamos predicciones con el mejor modelo"
   ]
  },
  {
   "cell_type": "code",
   "execution_count": 8,
   "id": "8d750767",
   "metadata": {},
   "outputs": [
    {
     "data": {
      "text/html": [
       "<style type=\"text/css\">\n",
       "</style>\n",
       "<table id=\"T_6ea27\">\n",
       "  <thead>\n",
       "    <tr>\n",
       "      <th class=\"blank level0\" >&nbsp;</th>\n",
       "      <th id=\"T_6ea27_level0_col0\" class=\"col_heading level0 col0\" >Model</th>\n",
       "      <th id=\"T_6ea27_level0_col1\" class=\"col_heading level0 col1\" >Accuracy</th>\n",
       "      <th id=\"T_6ea27_level0_col2\" class=\"col_heading level0 col2\" >AUC</th>\n",
       "      <th id=\"T_6ea27_level0_col3\" class=\"col_heading level0 col3\" >Recall</th>\n",
       "      <th id=\"T_6ea27_level0_col4\" class=\"col_heading level0 col4\" >Prec.</th>\n",
       "      <th id=\"T_6ea27_level0_col5\" class=\"col_heading level0 col5\" >F1</th>\n",
       "      <th id=\"T_6ea27_level0_col6\" class=\"col_heading level0 col6\" >Kappa</th>\n",
       "      <th id=\"T_6ea27_level0_col7\" class=\"col_heading level0 col7\" >MCC</th>\n",
       "    </tr>\n",
       "  </thead>\n",
       "  <tbody>\n",
       "    <tr>\n",
       "      <th id=\"T_6ea27_level0_row0\" class=\"row_heading level0 row0\" >0</th>\n",
       "      <td id=\"T_6ea27_row0_col0\" class=\"data row0 col0\" >Logistic Regression</td>\n",
       "      <td id=\"T_6ea27_row0_col1\" class=\"data row0 col1\" >0.7532</td>\n",
       "      <td id=\"T_6ea27_row0_col2\" class=\"data row0 col2\" >0.8586</td>\n",
       "      <td id=\"T_6ea27_row0_col3\" class=\"data row0 col3\" >0.5185</td>\n",
       "      <td id=\"T_6ea27_row0_col4\" class=\"data row0 col4\" >0.7000</td>\n",
       "      <td id=\"T_6ea27_row0_col5\" class=\"data row0 col5\" >0.5957</td>\n",
       "      <td id=\"T_6ea27_row0_col6\" class=\"data row0 col6\" >0.4238</td>\n",
       "      <td id=\"T_6ea27_row0_col7\" class=\"data row0 col7\" >0.4337</td>\n",
       "    </tr>\n",
       "  </tbody>\n",
       "</table>\n"
      ],
      "text/plain": [
       "<pandas.io.formats.style.Styler at 0x2258ed98710>"
      ]
     },
     "metadata": {},
     "output_type": "display_data"
    }
   ],
   "source": [
    "predictions = predict_model(best_model)"
   ]
  },
  {
   "cell_type": "markdown",
   "id": "dba6d254-b72c-41d0-85d2-d369e72d9832",
   "metadata": {},
   "source": [
    "ajustamos los hiperparámetros de lmejor modelo"
   ]
  },
  {
   "cell_type": "code",
   "execution_count": 9,
   "id": "19e4080f",
   "metadata": {},
   "outputs": [
    {
     "data": {
      "text/html": [],
      "text/plain": [
       "<IPython.core.display.HTML object>"
      ]
     },
     "metadata": {},
     "output_type": "display_data"
    },
    {
     "data": {
      "text/html": [
       "<style type=\"text/css\">\n",
       "#T_5fd54_row10_col0, #T_5fd54_row10_col1, #T_5fd54_row10_col2, #T_5fd54_row10_col3, #T_5fd54_row10_col4, #T_5fd54_row10_col5, #T_5fd54_row10_col6 {\n",
       "  background: yellow;\n",
       "}\n",
       "</style>\n",
       "<table id=\"T_5fd54\">\n",
       "  <thead>\n",
       "    <tr>\n",
       "      <th class=\"blank level0\" >&nbsp;</th>\n",
       "      <th id=\"T_5fd54_level0_col0\" class=\"col_heading level0 col0\" >Accuracy</th>\n",
       "      <th id=\"T_5fd54_level0_col1\" class=\"col_heading level0 col1\" >AUC</th>\n",
       "      <th id=\"T_5fd54_level0_col2\" class=\"col_heading level0 col2\" >Recall</th>\n",
       "      <th id=\"T_5fd54_level0_col3\" class=\"col_heading level0 col3\" >Prec.</th>\n",
       "      <th id=\"T_5fd54_level0_col4\" class=\"col_heading level0 col4\" >F1</th>\n",
       "      <th id=\"T_5fd54_level0_col5\" class=\"col_heading level0 col5\" >Kappa</th>\n",
       "      <th id=\"T_5fd54_level0_col6\" class=\"col_heading level0 col6\" >MCC</th>\n",
       "    </tr>\n",
       "    <tr>\n",
       "      <th class=\"index_name level0\" >Fold</th>\n",
       "      <th class=\"blank col0\" >&nbsp;</th>\n",
       "      <th class=\"blank col1\" >&nbsp;</th>\n",
       "      <th class=\"blank col2\" >&nbsp;</th>\n",
       "      <th class=\"blank col3\" >&nbsp;</th>\n",
       "      <th class=\"blank col4\" >&nbsp;</th>\n",
       "      <th class=\"blank col5\" >&nbsp;</th>\n",
       "      <th class=\"blank col6\" >&nbsp;</th>\n",
       "    </tr>\n",
       "  </thead>\n",
       "  <tbody>\n",
       "    <tr>\n",
       "      <th id=\"T_5fd54_level0_row0\" class=\"row_heading level0 row0\" >0</th>\n",
       "      <td id=\"T_5fd54_row0_col0\" class=\"data row0 col0\" >0.8704</td>\n",
       "      <td id=\"T_5fd54_row0_col1\" class=\"data row0 col1\" >0.8992</td>\n",
       "      <td id=\"T_5fd54_row0_col2\" class=\"data row0 col2\" >0.7368</td>\n",
       "      <td id=\"T_5fd54_row0_col3\" class=\"data row0 col3\" >0.8750</td>\n",
       "      <td id=\"T_5fd54_row0_col4\" class=\"data row0 col4\" >0.8000</td>\n",
       "      <td id=\"T_5fd54_row0_col5\" class=\"data row0 col5\" >0.7051</td>\n",
       "      <td id=\"T_5fd54_row0_col6\" class=\"data row0 col6\" >0.7108</td>\n",
       "    </tr>\n",
       "    <tr>\n",
       "      <th id=\"T_5fd54_level0_row1\" class=\"row_heading level0 row1\" >1</th>\n",
       "      <td id=\"T_5fd54_row1_col0\" class=\"data row1 col0\" >0.8148</td>\n",
       "      <td id=\"T_5fd54_row1_col1\" class=\"data row1 col1\" >0.7850</td>\n",
       "      <td id=\"T_5fd54_row1_col2\" class=\"data row1 col2\" >0.6316</td>\n",
       "      <td id=\"T_5fd54_row1_col3\" class=\"data row1 col3\" >0.8000</td>\n",
       "      <td id=\"T_5fd54_row1_col4\" class=\"data row1 col4\" >0.7059</td>\n",
       "      <td id=\"T_5fd54_row1_col5\" class=\"data row1 col5\" >0.5735</td>\n",
       "      <td id=\"T_5fd54_row1_col6\" class=\"data row1 col6\" >0.5820</td>\n",
       "    </tr>\n",
       "    <tr>\n",
       "      <th id=\"T_5fd54_level0_row2\" class=\"row_heading level0 row2\" >2</th>\n",
       "      <td id=\"T_5fd54_row2_col0\" class=\"data row2 col0\" >0.8704</td>\n",
       "      <td id=\"T_5fd54_row2_col1\" class=\"data row2 col1\" >0.9353</td>\n",
       "      <td id=\"T_5fd54_row2_col2\" class=\"data row2 col2\" >0.6842</td>\n",
       "      <td id=\"T_5fd54_row2_col3\" class=\"data row2 col3\" >0.9286</td>\n",
       "      <td id=\"T_5fd54_row2_col4\" class=\"data row2 col4\" >0.7879</td>\n",
       "      <td id=\"T_5fd54_row2_col5\" class=\"data row2 col5\" >0.6976</td>\n",
       "      <td id=\"T_5fd54_row2_col6\" class=\"data row2 col6\" >0.7145</td>\n",
       "    </tr>\n",
       "    <tr>\n",
       "      <th id=\"T_5fd54_level0_row3\" class=\"row_heading level0 row3\" >3</th>\n",
       "      <td id=\"T_5fd54_row3_col0\" class=\"data row3 col0\" >0.7222</td>\n",
       "      <td id=\"T_5fd54_row3_col1\" class=\"data row3 col1\" >0.7744</td>\n",
       "      <td id=\"T_5fd54_row3_col2\" class=\"data row3 col2\" >0.4737</td>\n",
       "      <td id=\"T_5fd54_row3_col3\" class=\"data row3 col3\" >0.6429</td>\n",
       "      <td id=\"T_5fd54_row3_col4\" class=\"data row3 col4\" >0.5455</td>\n",
       "      <td id=\"T_5fd54_row3_col5\" class=\"data row3 col5\" >0.3520</td>\n",
       "      <td id=\"T_5fd54_row3_col6\" class=\"data row3 col6\" >0.3605</td>\n",
       "    </tr>\n",
       "    <tr>\n",
       "      <th id=\"T_5fd54_level0_row4\" class=\"row_heading level0 row4\" >4</th>\n",
       "      <td id=\"T_5fd54_row4_col0\" class=\"data row4 col0\" >0.8704</td>\n",
       "      <td id=\"T_5fd54_row4_col1\" class=\"data row4 col1\" >0.9113</td>\n",
       "      <td id=\"T_5fd54_row4_col2\" class=\"data row4 col2\" >0.6842</td>\n",
       "      <td id=\"T_5fd54_row4_col3\" class=\"data row4 col3\" >0.9286</td>\n",
       "      <td id=\"T_5fd54_row4_col4\" class=\"data row4 col4\" >0.7879</td>\n",
       "      <td id=\"T_5fd54_row4_col5\" class=\"data row4 col5\" >0.6976</td>\n",
       "      <td id=\"T_5fd54_row4_col6\" class=\"data row4 col6\" >0.7145</td>\n",
       "    </tr>\n",
       "    <tr>\n",
       "      <th id=\"T_5fd54_level0_row5\" class=\"row_heading level0 row5\" >5</th>\n",
       "      <td id=\"T_5fd54_row5_col0\" class=\"data row5 col0\" >0.6481</td>\n",
       "      <td id=\"T_5fd54_row5_col1\" class=\"data row5 col1\" >0.6647</td>\n",
       "      <td id=\"T_5fd54_row5_col2\" class=\"data row5 col2\" >0.3684</td>\n",
       "      <td id=\"T_5fd54_row5_col3\" class=\"data row5 col3\" >0.5000</td>\n",
       "      <td id=\"T_5fd54_row5_col4\" class=\"data row5 col4\" >0.4242</td>\n",
       "      <td id=\"T_5fd54_row5_col5\" class=\"data row5 col5\" >0.1792</td>\n",
       "      <td id=\"T_5fd54_row5_col6\" class=\"data row5 col6\" >0.1835</td>\n",
       "    </tr>\n",
       "    <tr>\n",
       "      <th id=\"T_5fd54_level0_row6\" class=\"row_heading level0 row6\" >6</th>\n",
       "      <td id=\"T_5fd54_row6_col0\" class=\"data row6 col0\" >0.7407</td>\n",
       "      <td id=\"T_5fd54_row6_col1\" class=\"data row6 col1\" >0.8045</td>\n",
       "      <td id=\"T_5fd54_row6_col2\" class=\"data row6 col2\" >0.5789</td>\n",
       "      <td id=\"T_5fd54_row6_col3\" class=\"data row6 col3\" >0.6471</td>\n",
       "      <td id=\"T_5fd54_row6_col4\" class=\"data row6 col4\" >0.6111</td>\n",
       "      <td id=\"T_5fd54_row6_col5\" class=\"data row6 col5\" >0.4176</td>\n",
       "      <td id=\"T_5fd54_row6_col6\" class=\"data row6 col6\" >0.4190</td>\n",
       "    </tr>\n",
       "    <tr>\n",
       "      <th id=\"T_5fd54_level0_row7\" class=\"row_heading level0 row7\" >7</th>\n",
       "      <td id=\"T_5fd54_row7_col0\" class=\"data row7 col0\" >0.7736</td>\n",
       "      <td id=\"T_5fd54_row7_col1\" class=\"data row7 col1\" >0.8746</td>\n",
       "      <td id=\"T_5fd54_row7_col2\" class=\"data row7 col2\" >0.4444</td>\n",
       "      <td id=\"T_5fd54_row7_col3\" class=\"data row7 col3\" >0.8000</td>\n",
       "      <td id=\"T_5fd54_row7_col4\" class=\"data row7 col4\" >0.5714</td>\n",
       "      <td id=\"T_5fd54_row7_col5\" class=\"data row7 col5\" >0.4342</td>\n",
       "      <td id=\"T_5fd54_row7_col6\" class=\"data row7 col6\" >0.4688</td>\n",
       "    </tr>\n",
       "    <tr>\n",
       "      <th id=\"T_5fd54_level0_row8\" class=\"row_heading level0 row8\" >8</th>\n",
       "      <td id=\"T_5fd54_row8_col0\" class=\"data row8 col0\" >0.6604</td>\n",
       "      <td id=\"T_5fd54_row8_col1\" class=\"data row8 col1\" >0.6778</td>\n",
       "      <td id=\"T_5fd54_row8_col2\" class=\"data row8 col2\" >0.4444</td>\n",
       "      <td id=\"T_5fd54_row8_col3\" class=\"data row8 col3\" >0.5000</td>\n",
       "      <td id=\"T_5fd54_row8_col4\" class=\"data row8 col4\" >0.4706</td>\n",
       "      <td id=\"T_5fd54_row8_col5\" class=\"data row8 col5\" >0.2219</td>\n",
       "      <td id=\"T_5fd54_row8_col6\" class=\"data row8 col6\" >0.2227</td>\n",
       "    </tr>\n",
       "    <tr>\n",
       "      <th id=\"T_5fd54_level0_row9\" class=\"row_heading level0 row9\" >9</th>\n",
       "      <td id=\"T_5fd54_row9_col0\" class=\"data row9 col0\" >0.7547</td>\n",
       "      <td id=\"T_5fd54_row9_col1\" class=\"data row9 col1\" >0.7159</td>\n",
       "      <td id=\"T_5fd54_row9_col2\" class=\"data row9 col2\" >0.5556</td>\n",
       "      <td id=\"T_5fd54_row9_col3\" class=\"data row9 col3\" >0.6667</td>\n",
       "      <td id=\"T_5fd54_row9_col4\" class=\"data row9 col4\" >0.6061</td>\n",
       "      <td id=\"T_5fd54_row9_col5\" class=\"data row9 col5\" >0.4301</td>\n",
       "      <td id=\"T_5fd54_row9_col6\" class=\"data row9 col6\" >0.4339</td>\n",
       "    </tr>\n",
       "    <tr>\n",
       "      <th id=\"T_5fd54_level0_row10\" class=\"row_heading level0 row10\" >Mean</th>\n",
       "      <td id=\"T_5fd54_row10_col0\" class=\"data row10 col0\" >0.7726</td>\n",
       "      <td id=\"T_5fd54_row10_col1\" class=\"data row10 col1\" >0.8043</td>\n",
       "      <td id=\"T_5fd54_row10_col2\" class=\"data row10 col2\" >0.5602</td>\n",
       "      <td id=\"T_5fd54_row10_col3\" class=\"data row10 col3\" >0.7289</td>\n",
       "      <td id=\"T_5fd54_row10_col4\" class=\"data row10 col4\" >0.6311</td>\n",
       "      <td id=\"T_5fd54_row10_col5\" class=\"data row10 col5\" >0.4709</td>\n",
       "      <td id=\"T_5fd54_row10_col6\" class=\"data row10 col6\" >0.4810</td>\n",
       "    </tr>\n",
       "    <tr>\n",
       "      <th id=\"T_5fd54_level0_row11\" class=\"row_heading level0 row11\" >Std</th>\n",
       "      <td id=\"T_5fd54_row11_col0\" class=\"data row11 col0\" >0.0790</td>\n",
       "      <td id=\"T_5fd54_row11_col1\" class=\"data row11 col1\" >0.0934</td>\n",
       "      <td id=\"T_5fd54_row11_col2\" class=\"data row11 col2\" >0.1177</td>\n",
       "      <td id=\"T_5fd54_row11_col3\" class=\"data row11 col3\" >0.1530</td>\n",
       "      <td id=\"T_5fd54_row11_col4\" class=\"data row11 col4\" >0.1280</td>\n",
       "      <td id=\"T_5fd54_row11_col5\" class=\"data row11 col5\" >0.1831</td>\n",
       "      <td id=\"T_5fd54_row11_col6\" class=\"data row11 col6\" >0.1865</td>\n",
       "    </tr>\n",
       "  </tbody>\n",
       "</table>\n"
      ],
      "text/plain": [
       "<pandas.io.formats.style.Styler at 0x225911a49d0>"
      ]
     },
     "metadata": {},
     "output_type": "display_data"
    },
    {
     "data": {
      "text/html": [],
      "text/plain": [
       "<IPython.core.display.HTML object>"
      ]
     },
     "metadata": {},
     "output_type": "display_data"
    },
    {
     "name": "stdout",
     "output_type": "stream",
     "text": [
      "Fitting 10 folds for each of 10 candidates, totalling 100 fits\n",
      "Original model was better than the tuned model, hence it will be returned. NOTE: The display metrics are for the tuned model (not the original one).\n"
     ]
    }
   ],
   "source": [
    "tuned_model = tune_model(best_model, optimize='Accuracy')"
   ]
  },
  {
   "cell_type": "markdown",
   "id": "96e73009",
   "metadata": {},
   "source": [
    "Ajuste de hiperparámetros"
   ]
  },
  {
   "cell_type": "code",
   "execution_count": 15,
   "id": "975660d6",
   "metadata": {},
   "outputs": [
    {
     "data": {
      "text/html": [],
      "text/plain": [
       "<IPython.core.display.HTML object>"
      ]
     },
     "metadata": {},
     "output_type": "display_data"
    },
    {
     "data": {
      "text/html": [
       "<style type=\"text/css\">\n",
       "#T_bd43d_row10_col0, #T_bd43d_row10_col1, #T_bd43d_row10_col2, #T_bd43d_row10_col3, #T_bd43d_row10_col4, #T_bd43d_row10_col5, #T_bd43d_row10_col6 {\n",
       "  background: yellow;\n",
       "}\n",
       "</style>\n",
       "<table id=\"T_bd43d\">\n",
       "  <thead>\n",
       "    <tr>\n",
       "      <th class=\"blank level0\" >&nbsp;</th>\n",
       "      <th id=\"T_bd43d_level0_col0\" class=\"col_heading level0 col0\" >Accuracy</th>\n",
       "      <th id=\"T_bd43d_level0_col1\" class=\"col_heading level0 col1\" >AUC</th>\n",
       "      <th id=\"T_bd43d_level0_col2\" class=\"col_heading level0 col2\" >Recall</th>\n",
       "      <th id=\"T_bd43d_level0_col3\" class=\"col_heading level0 col3\" >Prec.</th>\n",
       "      <th id=\"T_bd43d_level0_col4\" class=\"col_heading level0 col4\" >F1</th>\n",
       "      <th id=\"T_bd43d_level0_col5\" class=\"col_heading level0 col5\" >Kappa</th>\n",
       "      <th id=\"T_bd43d_level0_col6\" class=\"col_heading level0 col6\" >MCC</th>\n",
       "    </tr>\n",
       "    <tr>\n",
       "      <th class=\"index_name level0\" >Fold</th>\n",
       "      <th class=\"blank col0\" >&nbsp;</th>\n",
       "      <th class=\"blank col1\" >&nbsp;</th>\n",
       "      <th class=\"blank col2\" >&nbsp;</th>\n",
       "      <th class=\"blank col3\" >&nbsp;</th>\n",
       "      <th class=\"blank col4\" >&nbsp;</th>\n",
       "      <th class=\"blank col5\" >&nbsp;</th>\n",
       "      <th class=\"blank col6\" >&nbsp;</th>\n",
       "    </tr>\n",
       "  </thead>\n",
       "  <tbody>\n",
       "    <tr>\n",
       "      <th id=\"T_bd43d_level0_row0\" class=\"row_heading level0 row0\" >0</th>\n",
       "      <td id=\"T_bd43d_row0_col0\" class=\"data row0 col0\" >0.8704</td>\n",
       "      <td id=\"T_bd43d_row0_col1\" class=\"data row0 col1\" >0.8992</td>\n",
       "      <td id=\"T_bd43d_row0_col2\" class=\"data row0 col2\" >0.7368</td>\n",
       "      <td id=\"T_bd43d_row0_col3\" class=\"data row0 col3\" >0.8750</td>\n",
       "      <td id=\"T_bd43d_row0_col4\" class=\"data row0 col4\" >0.8000</td>\n",
       "      <td id=\"T_bd43d_row0_col5\" class=\"data row0 col5\" >0.7051</td>\n",
       "      <td id=\"T_bd43d_row0_col6\" class=\"data row0 col6\" >0.7108</td>\n",
       "    </tr>\n",
       "    <tr>\n",
       "      <th id=\"T_bd43d_level0_row1\" class=\"row_heading level0 row1\" >1</th>\n",
       "      <td id=\"T_bd43d_row1_col0\" class=\"data row1 col0\" >0.8148</td>\n",
       "      <td id=\"T_bd43d_row1_col1\" class=\"data row1 col1\" >0.7850</td>\n",
       "      <td id=\"T_bd43d_row1_col2\" class=\"data row1 col2\" >0.6316</td>\n",
       "      <td id=\"T_bd43d_row1_col3\" class=\"data row1 col3\" >0.8000</td>\n",
       "      <td id=\"T_bd43d_row1_col4\" class=\"data row1 col4\" >0.7059</td>\n",
       "      <td id=\"T_bd43d_row1_col5\" class=\"data row1 col5\" >0.5735</td>\n",
       "      <td id=\"T_bd43d_row1_col6\" class=\"data row1 col6\" >0.5820</td>\n",
       "    </tr>\n",
       "    <tr>\n",
       "      <th id=\"T_bd43d_level0_row2\" class=\"row_heading level0 row2\" >2</th>\n",
       "      <td id=\"T_bd43d_row2_col0\" class=\"data row2 col0\" >0.8704</td>\n",
       "      <td id=\"T_bd43d_row2_col1\" class=\"data row2 col1\" >0.9353</td>\n",
       "      <td id=\"T_bd43d_row2_col2\" class=\"data row2 col2\" >0.6842</td>\n",
       "      <td id=\"T_bd43d_row2_col3\" class=\"data row2 col3\" >0.9286</td>\n",
       "      <td id=\"T_bd43d_row2_col4\" class=\"data row2 col4\" >0.7879</td>\n",
       "      <td id=\"T_bd43d_row2_col5\" class=\"data row2 col5\" >0.6976</td>\n",
       "      <td id=\"T_bd43d_row2_col6\" class=\"data row2 col6\" >0.7145</td>\n",
       "    </tr>\n",
       "    <tr>\n",
       "      <th id=\"T_bd43d_level0_row3\" class=\"row_heading level0 row3\" >3</th>\n",
       "      <td id=\"T_bd43d_row3_col0\" class=\"data row3 col0\" >0.7222</td>\n",
       "      <td id=\"T_bd43d_row3_col1\" class=\"data row3 col1\" >0.7744</td>\n",
       "      <td id=\"T_bd43d_row3_col2\" class=\"data row3 col2\" >0.4737</td>\n",
       "      <td id=\"T_bd43d_row3_col3\" class=\"data row3 col3\" >0.6429</td>\n",
       "      <td id=\"T_bd43d_row3_col4\" class=\"data row3 col4\" >0.5455</td>\n",
       "      <td id=\"T_bd43d_row3_col5\" class=\"data row3 col5\" >0.3520</td>\n",
       "      <td id=\"T_bd43d_row3_col6\" class=\"data row3 col6\" >0.3605</td>\n",
       "    </tr>\n",
       "    <tr>\n",
       "      <th id=\"T_bd43d_level0_row4\" class=\"row_heading level0 row4\" >4</th>\n",
       "      <td id=\"T_bd43d_row4_col0\" class=\"data row4 col0\" >0.8704</td>\n",
       "      <td id=\"T_bd43d_row4_col1\" class=\"data row4 col1\" >0.9113</td>\n",
       "      <td id=\"T_bd43d_row4_col2\" class=\"data row4 col2\" >0.6842</td>\n",
       "      <td id=\"T_bd43d_row4_col3\" class=\"data row4 col3\" >0.9286</td>\n",
       "      <td id=\"T_bd43d_row4_col4\" class=\"data row4 col4\" >0.7879</td>\n",
       "      <td id=\"T_bd43d_row4_col5\" class=\"data row4 col5\" >0.6976</td>\n",
       "      <td id=\"T_bd43d_row4_col6\" class=\"data row4 col6\" >0.7145</td>\n",
       "    </tr>\n",
       "    <tr>\n",
       "      <th id=\"T_bd43d_level0_row5\" class=\"row_heading level0 row5\" >5</th>\n",
       "      <td id=\"T_bd43d_row5_col0\" class=\"data row5 col0\" >0.6481</td>\n",
       "      <td id=\"T_bd43d_row5_col1\" class=\"data row5 col1\" >0.6647</td>\n",
       "      <td id=\"T_bd43d_row5_col2\" class=\"data row5 col2\" >0.3684</td>\n",
       "      <td id=\"T_bd43d_row5_col3\" class=\"data row5 col3\" >0.5000</td>\n",
       "      <td id=\"T_bd43d_row5_col4\" class=\"data row5 col4\" >0.4242</td>\n",
       "      <td id=\"T_bd43d_row5_col5\" class=\"data row5 col5\" >0.1792</td>\n",
       "      <td id=\"T_bd43d_row5_col6\" class=\"data row5 col6\" >0.1835</td>\n",
       "    </tr>\n",
       "    <tr>\n",
       "      <th id=\"T_bd43d_level0_row6\" class=\"row_heading level0 row6\" >6</th>\n",
       "      <td id=\"T_bd43d_row6_col0\" class=\"data row6 col0\" >0.7407</td>\n",
       "      <td id=\"T_bd43d_row6_col1\" class=\"data row6 col1\" >0.8045</td>\n",
       "      <td id=\"T_bd43d_row6_col2\" class=\"data row6 col2\" >0.5789</td>\n",
       "      <td id=\"T_bd43d_row6_col3\" class=\"data row6 col3\" >0.6471</td>\n",
       "      <td id=\"T_bd43d_row6_col4\" class=\"data row6 col4\" >0.6111</td>\n",
       "      <td id=\"T_bd43d_row6_col5\" class=\"data row6 col5\" >0.4176</td>\n",
       "      <td id=\"T_bd43d_row6_col6\" class=\"data row6 col6\" >0.4190</td>\n",
       "    </tr>\n",
       "    <tr>\n",
       "      <th id=\"T_bd43d_level0_row7\" class=\"row_heading level0 row7\" >7</th>\n",
       "      <td id=\"T_bd43d_row7_col0\" class=\"data row7 col0\" >0.7736</td>\n",
       "      <td id=\"T_bd43d_row7_col1\" class=\"data row7 col1\" >0.8746</td>\n",
       "      <td id=\"T_bd43d_row7_col2\" class=\"data row7 col2\" >0.4444</td>\n",
       "      <td id=\"T_bd43d_row7_col3\" class=\"data row7 col3\" >0.8000</td>\n",
       "      <td id=\"T_bd43d_row7_col4\" class=\"data row7 col4\" >0.5714</td>\n",
       "      <td id=\"T_bd43d_row7_col5\" class=\"data row7 col5\" >0.4342</td>\n",
       "      <td id=\"T_bd43d_row7_col6\" class=\"data row7 col6\" >0.4688</td>\n",
       "    </tr>\n",
       "    <tr>\n",
       "      <th id=\"T_bd43d_level0_row8\" class=\"row_heading level0 row8\" >8</th>\n",
       "      <td id=\"T_bd43d_row8_col0\" class=\"data row8 col0\" >0.6604</td>\n",
       "      <td id=\"T_bd43d_row8_col1\" class=\"data row8 col1\" >0.6778</td>\n",
       "      <td id=\"T_bd43d_row8_col2\" class=\"data row8 col2\" >0.4444</td>\n",
       "      <td id=\"T_bd43d_row8_col3\" class=\"data row8 col3\" >0.5000</td>\n",
       "      <td id=\"T_bd43d_row8_col4\" class=\"data row8 col4\" >0.4706</td>\n",
       "      <td id=\"T_bd43d_row8_col5\" class=\"data row8 col5\" >0.2219</td>\n",
       "      <td id=\"T_bd43d_row8_col6\" class=\"data row8 col6\" >0.2227</td>\n",
       "    </tr>\n",
       "    <tr>\n",
       "      <th id=\"T_bd43d_level0_row9\" class=\"row_heading level0 row9\" >9</th>\n",
       "      <td id=\"T_bd43d_row9_col0\" class=\"data row9 col0\" >0.7547</td>\n",
       "      <td id=\"T_bd43d_row9_col1\" class=\"data row9 col1\" >0.7159</td>\n",
       "      <td id=\"T_bd43d_row9_col2\" class=\"data row9 col2\" >0.5556</td>\n",
       "      <td id=\"T_bd43d_row9_col3\" class=\"data row9 col3\" >0.6667</td>\n",
       "      <td id=\"T_bd43d_row9_col4\" class=\"data row9 col4\" >0.6061</td>\n",
       "      <td id=\"T_bd43d_row9_col5\" class=\"data row9 col5\" >0.4301</td>\n",
       "      <td id=\"T_bd43d_row9_col6\" class=\"data row9 col6\" >0.4339</td>\n",
       "    </tr>\n",
       "    <tr>\n",
       "      <th id=\"T_bd43d_level0_row10\" class=\"row_heading level0 row10\" >Mean</th>\n",
       "      <td id=\"T_bd43d_row10_col0\" class=\"data row10 col0\" >0.7726</td>\n",
       "      <td id=\"T_bd43d_row10_col1\" class=\"data row10 col1\" >0.8043</td>\n",
       "      <td id=\"T_bd43d_row10_col2\" class=\"data row10 col2\" >0.5602</td>\n",
       "      <td id=\"T_bd43d_row10_col3\" class=\"data row10 col3\" >0.7289</td>\n",
       "      <td id=\"T_bd43d_row10_col4\" class=\"data row10 col4\" >0.6311</td>\n",
       "      <td id=\"T_bd43d_row10_col5\" class=\"data row10 col5\" >0.4709</td>\n",
       "      <td id=\"T_bd43d_row10_col6\" class=\"data row10 col6\" >0.4810</td>\n",
       "    </tr>\n",
       "    <tr>\n",
       "      <th id=\"T_bd43d_level0_row11\" class=\"row_heading level0 row11\" >Std</th>\n",
       "      <td id=\"T_bd43d_row11_col0\" class=\"data row11 col0\" >0.0790</td>\n",
       "      <td id=\"T_bd43d_row11_col1\" class=\"data row11 col1\" >0.0934</td>\n",
       "      <td id=\"T_bd43d_row11_col2\" class=\"data row11 col2\" >0.1177</td>\n",
       "      <td id=\"T_bd43d_row11_col3\" class=\"data row11 col3\" >0.1530</td>\n",
       "      <td id=\"T_bd43d_row11_col4\" class=\"data row11 col4\" >0.1280</td>\n",
       "      <td id=\"T_bd43d_row11_col5\" class=\"data row11 col5\" >0.1831</td>\n",
       "      <td id=\"T_bd43d_row11_col6\" class=\"data row11 col6\" >0.1865</td>\n",
       "    </tr>\n",
       "  </tbody>\n",
       "</table>\n"
      ],
      "text/plain": [
       "<pandas.io.formats.style.Styler at 0x22592d47a10>"
      ]
     },
     "metadata": {},
     "output_type": "display_data"
    },
    {
     "data": {
      "text/html": [],
      "text/plain": [
       "<IPython.core.display.HTML object>"
      ]
     },
     "metadata": {},
     "output_type": "display_data"
    },
    {
     "name": "stdout",
     "output_type": "stream",
     "text": [
      "Fitting 10 folds for each of 10 candidates, totalling 100 fits\n",
      "Original model was better than the tuned model, hence it will be returned. NOTE: The display metrics are for the tuned model (not the original one).\n"
     ]
    },
    {
     "data": {
      "application/vnd.jupyter.widget-view+json": {
       "model_id": "28912feb63164909b210a8d9c55d18f8",
       "version_major": 2,
       "version_minor": 0
      },
      "text/plain": [
       "interactive(children=(ToggleButtons(description='Plot Type:', icons=('',), options=(('Pipeline Plot', 'pipelin…"
      ]
     },
     "metadata": {},
     "output_type": "display_data"
    }
   ],
   "source": [
    "best_model_tuned = tune_model(best_model)\n",
    "evaluate_model(best_model_tuned)"
   ]
  },
  {
   "cell_type": "markdown",
   "id": "e34caa4d",
   "metadata": {},
   "source": [
    "#### c. Create an MLflow server from the Anaconda console, open it from a browser, and trace the path where the models will be saved. Also, recreate the classification models by naming the experiment 'diabetes_model,' adjust the hyperparameters of the best model, evaluate it, finalize it, and save everything in a folder called 'clf_models.'"
   ]
  },
  {
   "cell_type": "code",
   "execution_count": 16,
   "id": "957e0a6e",
   "metadata": {},
   "outputs": [
    {
     "ename": "TypeError",
     "evalue": "setup() got an unexpected keyword argument 'log_mlflow'",
     "output_type": "error",
     "traceback": [
      "\u001b[1;31m---------------------------------------------------------------------------\u001b[0m",
      "\u001b[1;31mTypeError\u001b[0m                                 Traceback (most recent call last)",
      "Cell \u001b[1;32mIn[16], line 2\u001b[0m\n\u001b[0;32m      1\u001b[0m \u001b[38;5;66;03m# Configurar el experimento con MLflow\u001b[39;00m\n\u001b[1;32m----> 2\u001b[0m setup(data\u001b[38;5;241m=\u001b[39mdata, target\u001b[38;5;241m=\u001b[39m\u001b[38;5;124m'\u001b[39m\u001b[38;5;124mOutcome\u001b[39m\u001b[38;5;124m'\u001b[39m, experiment_name\u001b[38;5;241m=\u001b[39m\u001b[38;5;124m'\u001b[39m\u001b[38;5;124mmodelo_diabetes\u001b[39m\u001b[38;5;124m'\u001b[39m, log_mlflow\u001b[38;5;241m=\u001b[39m\u001b[38;5;28;01mTrue\u001b[39;00m)\n",
      "\u001b[1;31mTypeError\u001b[0m: setup() got an unexpected keyword argument 'log_mlflow'"
     ]
    }
   ],
   "source": [
    "# Configurar el experimento con MLflow\n",
    "setup(data=data, target='Outcome', experiment_name='modelo_diabetes', log_mlflow=True)"
   ]
  },
  {
   "cell_type": "code",
   "execution_count": null,
   "id": "bddd126e",
   "metadata": {},
   "outputs": [],
   "source": [
    "# Comparar modelos nuevamente (opcional)\n",
    "best_model_mlflow = compare_models()"
   ]
  },
  {
   "cell_type": "code",
   "execution_count": 13,
   "id": "f7a94706",
   "metadata": {},
   "outputs": [
    {
     "ename": "NameError",
     "evalue": "name 'best_model_mlflow' is not defined",
     "output_type": "error",
     "traceback": [
      "\u001b[1;31m---------------------------------------------------------------------------\u001b[0m",
      "\u001b[1;31mNameError\u001b[0m                                 Traceback (most recent call last)",
      "Cell \u001b[1;32mIn[13], line 2\u001b[0m\n\u001b[0;32m      1\u001b[0m \u001b[38;5;66;03m# Ajustar hiperparámetros del mejor modelo\u001b[39;00m\n\u001b[1;32m----> 2\u001b[0m tuned_model_mlflow \u001b[38;5;241m=\u001b[39m tune_model(best_model_mlflow)\n",
      "\u001b[1;31mNameError\u001b[0m: name 'best_model_mlflow' is not defined"
     ]
    }
   ],
   "source": [
    "# Ajustar hiperparámetros del mejor modelo\n",
    "tuned_model_mlflow = tune_model(best_model_mlflow)"
   ]
  },
  {
   "cell_type": "code",
   "execution_count": 14,
   "id": "36ad00ee",
   "metadata": {},
   "outputs": [
    {
     "ename": "NameError",
     "evalue": "name 'tuned_model_mlflow' is not defined",
     "output_type": "error",
     "traceback": [
      "\u001b[1;31m---------------------------------------------------------------------------\u001b[0m",
      "\u001b[1;31mNameError\u001b[0m                                 Traceback (most recent call last)",
      "Cell \u001b[1;32mIn[14], line 2\u001b[0m\n\u001b[0;32m      1\u001b[0m \u001b[38;5;66;03m# Finalizar y guardar el modelo\u001b[39;00m\n\u001b[1;32m----> 2\u001b[0m final_model \u001b[38;5;241m=\u001b[39m finalize_model(tuned_model_mlflow)\n\u001b[0;32m      3\u001b[0m save_model(final_model, \u001b[38;5;124m'\u001b[39m\u001b[38;5;124mmodelos_clf/diabetes_model\u001b[39m\u001b[38;5;124m'\u001b[39m)\n",
      "\u001b[1;31mNameError\u001b[0m: name 'tuned_model_mlflow' is not defined"
     ]
    }
   ],
   "source": [
    "# Finalizar y guardar el modelo\n",
    "final_model = finalize_model(tuned_model_mlflow)\n",
    "save_model(final_model, 'modelos_clf/diabetes_model')"
   ]
  }
 ],
 "metadata": {
  "kernelspec": {
   "display_name": "base",
   "language": "python",
   "name": "python3"
  },
  "language_info": {
   "codemirror_mode": {
    "name": "ipython",
    "version": 3
   },
   "file_extension": ".py",
   "mimetype": "text/x-python",
   "name": "python",
   "nbconvert_exporter": "python",
   "pygments_lexer": "ipython3",
   "version": "3.11.5"
  }
 },
 "nbformat": 4,
 "nbformat_minor": 5
}
