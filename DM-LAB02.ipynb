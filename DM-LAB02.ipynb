{
 "cells": [
  {
   "cell_type": "markdown",
   "id": "301d38c1",
   "metadata": {},
   "source": [
    "# Laboratory 2 of Data Mining\n",
    "### Student:\n",
    "### César Diego Ruelas Flores"
   ]
  },
  {
   "cell_type": "markdown",
   "id": "6ad7ba47",
   "metadata": {
    "vscode": {
     "languageId": "plaintext"
    }
   },
   "source": [
    "#### a. Create a virtual environment in Anaconda named 'pycaret-clf' with Python version 3.11.9. Then, install the PyCaret library and load the 'diabetes' data."
   ]
  },
  {
   "cell_type": "code",
   "execution_count": 5,
   "id": "0aae0d90",
   "metadata": {},
   "outputs": [
    {
     "name": "stdout",
     "output_type": "stream",
     "text": [
      "Defaulting to user installation because normal site-packages is not writeable\n",
      "Requirement already satisfied: pandas in c:\\programdata\\anaconda3\\lib\\site-packages (2.0.3)\n",
      "Requirement already satisfied: python-dateutil>=2.8.2 in c:\\programdata\\anaconda3\\lib\\site-packages (from pandas) (2.8.2)\n",
      "Requirement already satisfied: pytz>=2020.1 in c:\\programdata\\anaconda3\\lib\\site-packages (from pandas) (2023.3.post1)\n",
      "Requirement already satisfied: tzdata>=2022.1 in c:\\programdata\\anaconda3\\lib\\site-packages (from pandas) (2023.3)\n",
      "Requirement already satisfied: numpy>=1.21.0 in c:\\users\\azshet\\appdata\\roaming\\python\\python311\\site-packages (from pandas) (1.26.4)\n",
      "Requirement already satisfied: six>=1.5 in c:\\programdata\\anaconda3\\lib\\site-packages (from python-dateutil>=2.8.2->pandas) (1.16.0)\n",
      "Note: you may need to restart the kernel to use updated packages.\n"
     ]
    }
   ],
   "source": [
    "pip install pandas"
   ]
  },
  {
   "cell_type": "code",
   "execution_count": 3,
   "id": "266866b3",
   "metadata": {},
   "outputs": [
    {
     "name": "stdout",
     "output_type": "stream",
     "text": [
      "Defaulting to user installation because normal site-packages is not writeable\n",
      "Requirement already satisfied: numpy==1.26.4 in c:\\users\\azshet\\appdata\\roaming\\python\\python311\\site-packages (1.26.4)\n",
      "Note: you may need to restart the kernel to use updated packages.\n"
     ]
    }
   ],
   "source": [
    "pip install numpy==1.26.4"
   ]
  },
  {
   "cell_type": "code",
   "execution_count": 1,
   "id": "3a5f92f5",
   "metadata": {},
   "outputs": [],
   "source": [
    "import pandas as pd\n",
    "data = pd.read_csv('diabetes.csv')"
   ]
  },
  {
   "cell_type": "code",
   "execution_count": 2,
   "id": "81025e8d-dcb2-480a-8c37-e5dae6cb2e27",
   "metadata": {},
   "outputs": [
    {
     "name": "stdout",
     "output_type": "stream",
     "text": [
      "(768, 9)\n"
     ]
    }
   ],
   "source": [
    "print(data.shape)"
   ]
  },
  {
   "cell_type": "code",
   "execution_count": 3,
   "id": "82c1cd1b-8901-4e10-b00f-cda51dc87d9b",
   "metadata": {},
   "outputs": [
    {
     "name": "stdout",
     "output_type": "stream",
     "text": [
      "Index(['Pregnancies', 'Glucose', 'BloodPressure', 'SkinThickness', 'Insulin',\n",
      "       'BMI', 'DiabetesPedigreeFunction', 'Age', 'Outcome'],\n",
      "      dtype='object')\n"
     ]
    }
   ],
   "source": [
    "print(data.columns)"
   ]
  },
  {
   "cell_type": "code",
   "execution_count": 4,
   "id": "db0a0441-dbfb-4ee6-9885-7c08db17250d",
   "metadata": {},
   "outputs": [
    {
     "name": "stdout",
     "output_type": "stream",
     "text": [
      "   Pregnancies  Glucose  BloodPressure  SkinThickness  Insulin   BMI  \\\n",
      "0            6      148             72             35        0  33.6   \n",
      "1            1       85             66             29        0  26.6   \n",
      "2            8      183             64              0        0  23.3   \n",
      "3            1       89             66             23       94  28.1   \n",
      "4            0      137             40             35      168  43.1   \n",
      "\n",
      "   DiabetesPedigreeFunction  Age  Outcome  \n",
      "0                     0.627   50        1  \n",
      "1                     0.351   31        0  \n",
      "2                     0.672   32        1  \n",
      "3                     0.167   21        0  \n",
      "4                     2.288   33        1  \n"
     ]
    }
   ],
   "source": [
    "print(data.head())"
   ]
  },
  {
   "cell_type": "markdown",
   "id": "aafca45c",
   "metadata": {},
   "source": [
    "sin pandas"
   ]
  },
  {
   "cell_type": "code",
   "execution_count": 5,
   "id": "a1cc60ab",
   "metadata": {},
   "outputs": [
    {
     "data": {
      "text/html": [
       "<div>\n",
       "<style scoped>\n",
       "    .dataframe tbody tr th:only-of-type {\n",
       "        vertical-align: middle;\n",
       "    }\n",
       "\n",
       "    .dataframe tbody tr th {\n",
       "        vertical-align: top;\n",
       "    }\n",
       "\n",
       "    .dataframe thead th {\n",
       "        text-align: right;\n",
       "    }\n",
       "</style>\n",
       "<table border=\"1\" class=\"dataframe\">\n",
       "  <thead>\n",
       "    <tr style=\"text-align: right;\">\n",
       "      <th></th>\n",
       "      <th>Pregnancies</th>\n",
       "      <th>Glucose</th>\n",
       "      <th>BloodPressure</th>\n",
       "      <th>SkinThickness</th>\n",
       "      <th>Insulin</th>\n",
       "      <th>BMI</th>\n",
       "      <th>DiabetesPedigreeFunction</th>\n",
       "      <th>Age</th>\n",
       "      <th>Outcome</th>\n",
       "    </tr>\n",
       "  </thead>\n",
       "  <tbody>\n",
       "    <tr>\n",
       "      <th>0</th>\n",
       "      <td>6</td>\n",
       "      <td>148</td>\n",
       "      <td>72</td>\n",
       "      <td>35</td>\n",
       "      <td>0</td>\n",
       "      <td>33.6</td>\n",
       "      <td>0.627</td>\n",
       "      <td>50</td>\n",
       "      <td>1</td>\n",
       "    </tr>\n",
       "    <tr>\n",
       "      <th>1</th>\n",
       "      <td>1</td>\n",
       "      <td>85</td>\n",
       "      <td>66</td>\n",
       "      <td>29</td>\n",
       "      <td>0</td>\n",
       "      <td>26.6</td>\n",
       "      <td>0.351</td>\n",
       "      <td>31</td>\n",
       "      <td>0</td>\n",
       "    </tr>\n",
       "    <tr>\n",
       "      <th>2</th>\n",
       "      <td>8</td>\n",
       "      <td>183</td>\n",
       "      <td>64</td>\n",
       "      <td>0</td>\n",
       "      <td>0</td>\n",
       "      <td>23.3</td>\n",
       "      <td>0.672</td>\n",
       "      <td>32</td>\n",
       "      <td>1</td>\n",
       "    </tr>\n",
       "    <tr>\n",
       "      <th>3</th>\n",
       "      <td>1</td>\n",
       "      <td>89</td>\n",
       "      <td>66</td>\n",
       "      <td>23</td>\n",
       "      <td>94</td>\n",
       "      <td>28.1</td>\n",
       "      <td>0.167</td>\n",
       "      <td>21</td>\n",
       "      <td>0</td>\n",
       "    </tr>\n",
       "    <tr>\n",
       "      <th>4</th>\n",
       "      <td>0</td>\n",
       "      <td>137</td>\n",
       "      <td>40</td>\n",
       "      <td>35</td>\n",
       "      <td>168</td>\n",
       "      <td>43.1</td>\n",
       "      <td>2.288</td>\n",
       "      <td>33</td>\n",
       "      <td>1</td>\n",
       "    </tr>\n",
       "  </tbody>\n",
       "</table>\n",
       "</div>"
      ],
      "text/plain": [
       "   Pregnancies  Glucose  BloodPressure  SkinThickness  Insulin   BMI  \\\n",
       "0            6      148             72             35        0  33.6   \n",
       "1            1       85             66             29        0  26.6   \n",
       "2            8      183             64              0        0  23.3   \n",
       "3            1       89             66             23       94  28.1   \n",
       "4            0      137             40             35      168  43.1   \n",
       "\n",
       "   DiabetesPedigreeFunction  Age  Outcome  \n",
       "0                     0.627   50        1  \n",
       "1                     0.351   31        0  \n",
       "2                     0.672   32        1  \n",
       "3                     0.167   21        0  \n",
       "4                     2.288   33        1  "
      ]
     },
     "metadata": {},
     "output_type": "display_data"
    }
   ],
   "source": [
    "# load sample dataset\n",
    "from pycaret.datasets import get_data\n",
    "data = get_data('diabetes')"
   ]
  },
  {
   "cell_type": "code",
   "execution_count": 6,
   "id": "b80ef45e-fdf0-4f3b-ac70-533aace8910b",
   "metadata": {},
   "outputs": [
    {
     "data": {
      "text/html": [
       "<style type=\"text/css\">\n",
       "#T_b7296_row8_col1, #T_b7296_row12_col1 {\n",
       "  background-color: lightgreen;\n",
       "}\n",
       "</style>\n",
       "<table id=\"T_b7296\">\n",
       "  <thead>\n",
       "    <tr>\n",
       "      <th class=\"blank level0\" >&nbsp;</th>\n",
       "      <th id=\"T_b7296_level0_col0\" class=\"col_heading level0 col0\" >Description</th>\n",
       "      <th id=\"T_b7296_level0_col1\" class=\"col_heading level0 col1\" >Value</th>\n",
       "    </tr>\n",
       "  </thead>\n",
       "  <tbody>\n",
       "    <tr>\n",
       "      <th id=\"T_b7296_level0_row0\" class=\"row_heading level0 row0\" >0</th>\n",
       "      <td id=\"T_b7296_row0_col0\" class=\"data row0 col0\" >Session id</td>\n",
       "      <td id=\"T_b7296_row0_col1\" class=\"data row0 col1\" >123</td>\n",
       "    </tr>\n",
       "    <tr>\n",
       "      <th id=\"T_b7296_level0_row1\" class=\"row_heading level0 row1\" >1</th>\n",
       "      <td id=\"T_b7296_row1_col0\" class=\"data row1 col0\" >Target</td>\n",
       "      <td id=\"T_b7296_row1_col1\" class=\"data row1 col1\" >Outcome</td>\n",
       "    </tr>\n",
       "    <tr>\n",
       "      <th id=\"T_b7296_level0_row2\" class=\"row_heading level0 row2\" >2</th>\n",
       "      <td id=\"T_b7296_row2_col0\" class=\"data row2 col0\" >Target type</td>\n",
       "      <td id=\"T_b7296_row2_col1\" class=\"data row2 col1\" >Binary</td>\n",
       "    </tr>\n",
       "    <tr>\n",
       "      <th id=\"T_b7296_level0_row3\" class=\"row_heading level0 row3\" >3</th>\n",
       "      <td id=\"T_b7296_row3_col0\" class=\"data row3 col0\" >Original data shape</td>\n",
       "      <td id=\"T_b7296_row3_col1\" class=\"data row3 col1\" >(768, 9)</td>\n",
       "    </tr>\n",
       "    <tr>\n",
       "      <th id=\"T_b7296_level0_row4\" class=\"row_heading level0 row4\" >4</th>\n",
       "      <td id=\"T_b7296_row4_col0\" class=\"data row4 col0\" >Transformed data shape</td>\n",
       "      <td id=\"T_b7296_row4_col1\" class=\"data row4 col1\" >(768, 9)</td>\n",
       "    </tr>\n",
       "    <tr>\n",
       "      <th id=\"T_b7296_level0_row5\" class=\"row_heading level0 row5\" >5</th>\n",
       "      <td id=\"T_b7296_row5_col0\" class=\"data row5 col0\" >Transformed train set shape</td>\n",
       "      <td id=\"T_b7296_row5_col1\" class=\"data row5 col1\" >(537, 9)</td>\n",
       "    </tr>\n",
       "    <tr>\n",
       "      <th id=\"T_b7296_level0_row6\" class=\"row_heading level0 row6\" >6</th>\n",
       "      <td id=\"T_b7296_row6_col0\" class=\"data row6 col0\" >Transformed test set shape</td>\n",
       "      <td id=\"T_b7296_row6_col1\" class=\"data row6 col1\" >(231, 9)</td>\n",
       "    </tr>\n",
       "    <tr>\n",
       "      <th id=\"T_b7296_level0_row7\" class=\"row_heading level0 row7\" >7</th>\n",
       "      <td id=\"T_b7296_row7_col0\" class=\"data row7 col0\" >Numeric features</td>\n",
       "      <td id=\"T_b7296_row7_col1\" class=\"data row7 col1\" >8</td>\n",
       "    </tr>\n",
       "    <tr>\n",
       "      <th id=\"T_b7296_level0_row8\" class=\"row_heading level0 row8\" >8</th>\n",
       "      <td id=\"T_b7296_row8_col0\" class=\"data row8 col0\" >Preprocess</td>\n",
       "      <td id=\"T_b7296_row8_col1\" class=\"data row8 col1\" >True</td>\n",
       "    </tr>\n",
       "    <tr>\n",
       "      <th id=\"T_b7296_level0_row9\" class=\"row_heading level0 row9\" >9</th>\n",
       "      <td id=\"T_b7296_row9_col0\" class=\"data row9 col0\" >Imputation type</td>\n",
       "      <td id=\"T_b7296_row9_col1\" class=\"data row9 col1\" >simple</td>\n",
       "    </tr>\n",
       "    <tr>\n",
       "      <th id=\"T_b7296_level0_row10\" class=\"row_heading level0 row10\" >10</th>\n",
       "      <td id=\"T_b7296_row10_col0\" class=\"data row10 col0\" >Numeric imputation</td>\n",
       "      <td id=\"T_b7296_row10_col1\" class=\"data row10 col1\" >mean</td>\n",
       "    </tr>\n",
       "    <tr>\n",
       "      <th id=\"T_b7296_level0_row11\" class=\"row_heading level0 row11\" >11</th>\n",
       "      <td id=\"T_b7296_row11_col0\" class=\"data row11 col0\" >Categorical imputation</td>\n",
       "      <td id=\"T_b7296_row11_col1\" class=\"data row11 col1\" >mode</td>\n",
       "    </tr>\n",
       "    <tr>\n",
       "      <th id=\"T_b7296_level0_row12\" class=\"row_heading level0 row12\" >12</th>\n",
       "      <td id=\"T_b7296_row12_col0\" class=\"data row12 col0\" >Normalize</td>\n",
       "      <td id=\"T_b7296_row12_col1\" class=\"data row12 col1\" >True</td>\n",
       "    </tr>\n",
       "    <tr>\n",
       "      <th id=\"T_b7296_level0_row13\" class=\"row_heading level0 row13\" >13</th>\n",
       "      <td id=\"T_b7296_row13_col0\" class=\"data row13 col0\" >Normalize method</td>\n",
       "      <td id=\"T_b7296_row13_col1\" class=\"data row13 col1\" >zscore</td>\n",
       "    </tr>\n",
       "    <tr>\n",
       "      <th id=\"T_b7296_level0_row14\" class=\"row_heading level0 row14\" >14</th>\n",
       "      <td id=\"T_b7296_row14_col0\" class=\"data row14 col0\" >Fold Generator</td>\n",
       "      <td id=\"T_b7296_row14_col1\" class=\"data row14 col1\" >StratifiedKFold</td>\n",
       "    </tr>\n",
       "    <tr>\n",
       "      <th id=\"T_b7296_level0_row15\" class=\"row_heading level0 row15\" >15</th>\n",
       "      <td id=\"T_b7296_row15_col0\" class=\"data row15 col0\" >Fold Number</td>\n",
       "      <td id=\"T_b7296_row15_col1\" class=\"data row15 col1\" >10</td>\n",
       "    </tr>\n",
       "    <tr>\n",
       "      <th id=\"T_b7296_level0_row16\" class=\"row_heading level0 row16\" >16</th>\n",
       "      <td id=\"T_b7296_row16_col0\" class=\"data row16 col0\" >CPU Jobs</td>\n",
       "      <td id=\"T_b7296_row16_col1\" class=\"data row16 col1\" >-1</td>\n",
       "    </tr>\n",
       "    <tr>\n",
       "      <th id=\"T_b7296_level0_row17\" class=\"row_heading level0 row17\" >17</th>\n",
       "      <td id=\"T_b7296_row17_col0\" class=\"data row17 col0\" >Use GPU</td>\n",
       "      <td id=\"T_b7296_row17_col1\" class=\"data row17 col1\" >False</td>\n",
       "    </tr>\n",
       "    <tr>\n",
       "      <th id=\"T_b7296_level0_row18\" class=\"row_heading level0 row18\" >18</th>\n",
       "      <td id=\"T_b7296_row18_col0\" class=\"data row18 col0\" >Log Experiment</td>\n",
       "      <td id=\"T_b7296_row18_col1\" class=\"data row18 col1\" >False</td>\n",
       "    </tr>\n",
       "    <tr>\n",
       "      <th id=\"T_b7296_level0_row19\" class=\"row_heading level0 row19\" >19</th>\n",
       "      <td id=\"T_b7296_row19_col0\" class=\"data row19 col0\" >Experiment Name</td>\n",
       "      <td id=\"T_b7296_row19_col1\" class=\"data row19 col1\" >clf-default-name</td>\n",
       "    </tr>\n",
       "    <tr>\n",
       "      <th id=\"T_b7296_level0_row20\" class=\"row_heading level0 row20\" >20</th>\n",
       "      <td id=\"T_b7296_row20_col0\" class=\"data row20 col0\" >USI</td>\n",
       "      <td id=\"T_b7296_row20_col1\" class=\"data row20 col1\" >9ffb</td>\n",
       "    </tr>\n",
       "  </tbody>\n",
       "</table>\n"
      ],
      "text/plain": [
       "<pandas.io.formats.style.Styler at 0x27fe6d1ebd0>"
      ]
     },
     "metadata": {},
     "output_type": "display_data"
    }
   ],
   "source": [
    "from pycaret.classification import *\n",
    "# tomando el entorno\n",
    "clf_setup = setup(data, target='Outcome', session_id=123, normalize=True)"
   ]
  },
  {
   "cell_type": "code",
   "execution_count": 7,
   "id": "b0a5b27f",
   "metadata": {},
   "outputs": [],
   "source": [
    "# pip install --upgrade threadpoolctl"
   ]
  },
  {
   "cell_type": "markdown",
   "id": "108b7c8a",
   "metadata": {},
   "source": [
    "#### b. Create a report for a classification model using \"Outcome\" as the target variable, comparing all the classification models included in PyCaret and evaluating them using their performance metrics. Additionally, make predictions for the best model and tune its hyperparameters."
   ]
  },
  {
   "cell_type": "markdown",
   "id": "cb811ae8-f0e5-4ca5-ab3d-06f7471c3f6b",
   "metadata": {},
   "source": [
    "Comparando los modelos de clasificación"
   ]
  },
  {
   "cell_type": "code",
   "execution_count": 8,
   "id": "3fd6569f",
   "metadata": {},
   "outputs": [
    {
     "data": {
      "text/html": [],
      "text/plain": [
       "<IPython.core.display.HTML object>"
      ]
     },
     "metadata": {},
     "output_type": "display_data"
    },
    {
     "data": {
      "text/html": [],
      "text/plain": [
       "<IPython.core.display.HTML object>"
      ]
     },
     "metadata": {},
     "output_type": "display_data"
    },
    {
     "data": {
      "text/html": [],
      "text/plain": [
       "<IPython.core.display.HTML object>"
      ]
     },
     "metadata": {},
     "output_type": "display_data"
    },
    {
     "name": "stdout",
     "output_type": "stream",
     "text": [
      "Mejor modelo: LogisticRegression(C=1.0, class_weight=None, dual=False, fit_intercept=True,\n",
      "                   intercept_scaling=1, l1_ratio=None, max_iter=1000,\n",
      "                   multi_class='auto', n_jobs=None, penalty='l2',\n",
      "                   random_state=123, solver='lbfgs', tol=0.0001, verbose=0,\n",
      "                   warm_start=False)\n"
     ]
    }
   ],
   "source": [
    "best_model = compare_models()\n",
    "\n",
    "# Mostrar el modelo generado\n",
    "print(\"Mejor modelo:\", best_model)"
   ]
  },
  {
   "cell_type": "code",
   "execution_count": 9,
   "id": "d4e58954-7bc0-457e-b944-ea9453a091bd",
   "metadata": {},
   "outputs": [
    {
     "data": {
      "application/vnd.jupyter.widget-view+json": {
       "model_id": "e6cf228d0fa843e08319d5a3a1a2b36b",
       "version_major": 2,
       "version_minor": 0
      },
      "text/plain": [
       "interactive(children=(ToggleButtons(description='Plot Type:', icons=('',), options=(('Pipeline Plot', 'pipelin…"
      ]
     },
     "metadata": {},
     "output_type": "display_data"
    }
   ],
   "source": [
    "# evaluamos el el mejor modelo encontrado\n",
    "evaluate_model(best_model)"
   ]
  },
  {
   "cell_type": "markdown",
   "id": "fccbd4c4-e518-49fd-ab1c-f3e2644bba9d",
   "metadata": {},
   "source": [
    "ahora realizamos predicciones con el mejor modelo"
   ]
  },
  {
   "cell_type": "code",
   "execution_count": 10,
   "id": "8d750767",
   "metadata": {},
   "outputs": [
    {
     "data": {
      "text/html": [
       "<style type=\"text/css\">\n",
       "</style>\n",
       "<table id=\"T_46dcf\">\n",
       "  <thead>\n",
       "    <tr>\n",
       "      <th class=\"blank level0\" >&nbsp;</th>\n",
       "      <th id=\"T_46dcf_level0_col0\" class=\"col_heading level0 col0\" >Model</th>\n",
       "      <th id=\"T_46dcf_level0_col1\" class=\"col_heading level0 col1\" >Accuracy</th>\n",
       "      <th id=\"T_46dcf_level0_col2\" class=\"col_heading level0 col2\" >AUC</th>\n",
       "      <th id=\"T_46dcf_level0_col3\" class=\"col_heading level0 col3\" >Recall</th>\n",
       "      <th id=\"T_46dcf_level0_col4\" class=\"col_heading level0 col4\" >Prec.</th>\n",
       "      <th id=\"T_46dcf_level0_col5\" class=\"col_heading level0 col5\" >F1</th>\n",
       "      <th id=\"T_46dcf_level0_col6\" class=\"col_heading level0 col6\" >Kappa</th>\n",
       "      <th id=\"T_46dcf_level0_col7\" class=\"col_heading level0 col7\" >MCC</th>\n",
       "    </tr>\n",
       "  </thead>\n",
       "  <tbody>\n",
       "    <tr>\n",
       "      <th id=\"T_46dcf_level0_row0\" class=\"row_heading level0 row0\" >0</th>\n",
       "      <td id=\"T_46dcf_row0_col0\" class=\"data row0 col0\" >Logistic Regression</td>\n",
       "      <td id=\"T_46dcf_row0_col1\" class=\"data row0 col1\" >0.7532</td>\n",
       "      <td id=\"T_46dcf_row0_col2\" class=\"data row0 col2\" >0.8586</td>\n",
       "      <td id=\"T_46dcf_row0_col3\" class=\"data row0 col3\" >0.5185</td>\n",
       "      <td id=\"T_46dcf_row0_col4\" class=\"data row0 col4\" >0.7000</td>\n",
       "      <td id=\"T_46dcf_row0_col5\" class=\"data row0 col5\" >0.5957</td>\n",
       "      <td id=\"T_46dcf_row0_col6\" class=\"data row0 col6\" >0.4238</td>\n",
       "      <td id=\"T_46dcf_row0_col7\" class=\"data row0 col7\" >0.4337</td>\n",
       "    </tr>\n",
       "  </tbody>\n",
       "</table>\n"
      ],
      "text/plain": [
       "<pandas.io.formats.style.Styler at 0x27fef447710>"
      ]
     },
     "metadata": {},
     "output_type": "display_data"
    }
   ],
   "source": [
    "predictions = predict_model(best_model)"
   ]
  },
  {
   "cell_type": "markdown",
   "id": "dba6d254-b72c-41d0-85d2-d369e72d9832",
   "metadata": {},
   "source": [
    "ajustamos los hiperparámetros de lmejor modelo"
   ]
  },
  {
   "cell_type": "code",
   "execution_count": 11,
   "id": "19e4080f",
   "metadata": {},
   "outputs": [
    {
     "data": {
      "text/html": [],
      "text/plain": [
       "<IPython.core.display.HTML object>"
      ]
     },
     "metadata": {},
     "output_type": "display_data"
    },
    {
     "data": {
      "text/html": [
       "<style type=\"text/css\">\n",
       "#T_ee64e_row10_col0, #T_ee64e_row10_col1, #T_ee64e_row10_col2, #T_ee64e_row10_col3, #T_ee64e_row10_col4, #T_ee64e_row10_col5, #T_ee64e_row10_col6 {\n",
       "  background: yellow;\n",
       "}\n",
       "</style>\n",
       "<table id=\"T_ee64e\">\n",
       "  <thead>\n",
       "    <tr>\n",
       "      <th class=\"blank level0\" >&nbsp;</th>\n",
       "      <th id=\"T_ee64e_level0_col0\" class=\"col_heading level0 col0\" >Accuracy</th>\n",
       "      <th id=\"T_ee64e_level0_col1\" class=\"col_heading level0 col1\" >AUC</th>\n",
       "      <th id=\"T_ee64e_level0_col2\" class=\"col_heading level0 col2\" >Recall</th>\n",
       "      <th id=\"T_ee64e_level0_col3\" class=\"col_heading level0 col3\" >Prec.</th>\n",
       "      <th id=\"T_ee64e_level0_col4\" class=\"col_heading level0 col4\" >F1</th>\n",
       "      <th id=\"T_ee64e_level0_col5\" class=\"col_heading level0 col5\" >Kappa</th>\n",
       "      <th id=\"T_ee64e_level0_col6\" class=\"col_heading level0 col6\" >MCC</th>\n",
       "    </tr>\n",
       "    <tr>\n",
       "      <th class=\"index_name level0\" >Fold</th>\n",
       "      <th class=\"blank col0\" >&nbsp;</th>\n",
       "      <th class=\"blank col1\" >&nbsp;</th>\n",
       "      <th class=\"blank col2\" >&nbsp;</th>\n",
       "      <th class=\"blank col3\" >&nbsp;</th>\n",
       "      <th class=\"blank col4\" >&nbsp;</th>\n",
       "      <th class=\"blank col5\" >&nbsp;</th>\n",
       "      <th class=\"blank col6\" >&nbsp;</th>\n",
       "    </tr>\n",
       "  </thead>\n",
       "  <tbody>\n",
       "    <tr>\n",
       "      <th id=\"T_ee64e_level0_row0\" class=\"row_heading level0 row0\" >0</th>\n",
       "      <td id=\"T_ee64e_row0_col0\" class=\"data row0 col0\" >0.8704</td>\n",
       "      <td id=\"T_ee64e_row0_col1\" class=\"data row0 col1\" >0.8992</td>\n",
       "      <td id=\"T_ee64e_row0_col2\" class=\"data row0 col2\" >0.7368</td>\n",
       "      <td id=\"T_ee64e_row0_col3\" class=\"data row0 col3\" >0.8750</td>\n",
       "      <td id=\"T_ee64e_row0_col4\" class=\"data row0 col4\" >0.8000</td>\n",
       "      <td id=\"T_ee64e_row0_col5\" class=\"data row0 col5\" >0.7051</td>\n",
       "      <td id=\"T_ee64e_row0_col6\" class=\"data row0 col6\" >0.7108</td>\n",
       "    </tr>\n",
       "    <tr>\n",
       "      <th id=\"T_ee64e_level0_row1\" class=\"row_heading level0 row1\" >1</th>\n",
       "      <td id=\"T_ee64e_row1_col0\" class=\"data row1 col0\" >0.8148</td>\n",
       "      <td id=\"T_ee64e_row1_col1\" class=\"data row1 col1\" >0.7850</td>\n",
       "      <td id=\"T_ee64e_row1_col2\" class=\"data row1 col2\" >0.6316</td>\n",
       "      <td id=\"T_ee64e_row1_col3\" class=\"data row1 col3\" >0.8000</td>\n",
       "      <td id=\"T_ee64e_row1_col4\" class=\"data row1 col4\" >0.7059</td>\n",
       "      <td id=\"T_ee64e_row1_col5\" class=\"data row1 col5\" >0.5735</td>\n",
       "      <td id=\"T_ee64e_row1_col6\" class=\"data row1 col6\" >0.5820</td>\n",
       "    </tr>\n",
       "    <tr>\n",
       "      <th id=\"T_ee64e_level0_row2\" class=\"row_heading level0 row2\" >2</th>\n",
       "      <td id=\"T_ee64e_row2_col0\" class=\"data row2 col0\" >0.8704</td>\n",
       "      <td id=\"T_ee64e_row2_col1\" class=\"data row2 col1\" >0.9353</td>\n",
       "      <td id=\"T_ee64e_row2_col2\" class=\"data row2 col2\" >0.6842</td>\n",
       "      <td id=\"T_ee64e_row2_col3\" class=\"data row2 col3\" >0.9286</td>\n",
       "      <td id=\"T_ee64e_row2_col4\" class=\"data row2 col4\" >0.7879</td>\n",
       "      <td id=\"T_ee64e_row2_col5\" class=\"data row2 col5\" >0.6976</td>\n",
       "      <td id=\"T_ee64e_row2_col6\" class=\"data row2 col6\" >0.7145</td>\n",
       "    </tr>\n",
       "    <tr>\n",
       "      <th id=\"T_ee64e_level0_row3\" class=\"row_heading level0 row3\" >3</th>\n",
       "      <td id=\"T_ee64e_row3_col0\" class=\"data row3 col0\" >0.7222</td>\n",
       "      <td id=\"T_ee64e_row3_col1\" class=\"data row3 col1\" >0.7744</td>\n",
       "      <td id=\"T_ee64e_row3_col2\" class=\"data row3 col2\" >0.4737</td>\n",
       "      <td id=\"T_ee64e_row3_col3\" class=\"data row3 col3\" >0.6429</td>\n",
       "      <td id=\"T_ee64e_row3_col4\" class=\"data row3 col4\" >0.5455</td>\n",
       "      <td id=\"T_ee64e_row3_col5\" class=\"data row3 col5\" >0.3520</td>\n",
       "      <td id=\"T_ee64e_row3_col6\" class=\"data row3 col6\" >0.3605</td>\n",
       "    </tr>\n",
       "    <tr>\n",
       "      <th id=\"T_ee64e_level0_row4\" class=\"row_heading level0 row4\" >4</th>\n",
       "      <td id=\"T_ee64e_row4_col0\" class=\"data row4 col0\" >0.8704</td>\n",
       "      <td id=\"T_ee64e_row4_col1\" class=\"data row4 col1\" >0.9113</td>\n",
       "      <td id=\"T_ee64e_row4_col2\" class=\"data row4 col2\" >0.6842</td>\n",
       "      <td id=\"T_ee64e_row4_col3\" class=\"data row4 col3\" >0.9286</td>\n",
       "      <td id=\"T_ee64e_row4_col4\" class=\"data row4 col4\" >0.7879</td>\n",
       "      <td id=\"T_ee64e_row4_col5\" class=\"data row4 col5\" >0.6976</td>\n",
       "      <td id=\"T_ee64e_row4_col6\" class=\"data row4 col6\" >0.7145</td>\n",
       "    </tr>\n",
       "    <tr>\n",
       "      <th id=\"T_ee64e_level0_row5\" class=\"row_heading level0 row5\" >5</th>\n",
       "      <td id=\"T_ee64e_row5_col0\" class=\"data row5 col0\" >0.6481</td>\n",
       "      <td id=\"T_ee64e_row5_col1\" class=\"data row5 col1\" >0.6647</td>\n",
       "      <td id=\"T_ee64e_row5_col2\" class=\"data row5 col2\" >0.3684</td>\n",
       "      <td id=\"T_ee64e_row5_col3\" class=\"data row5 col3\" >0.5000</td>\n",
       "      <td id=\"T_ee64e_row5_col4\" class=\"data row5 col4\" >0.4242</td>\n",
       "      <td id=\"T_ee64e_row5_col5\" class=\"data row5 col5\" >0.1792</td>\n",
       "      <td id=\"T_ee64e_row5_col6\" class=\"data row5 col6\" >0.1835</td>\n",
       "    </tr>\n",
       "    <tr>\n",
       "      <th id=\"T_ee64e_level0_row6\" class=\"row_heading level0 row6\" >6</th>\n",
       "      <td id=\"T_ee64e_row6_col0\" class=\"data row6 col0\" >0.7407</td>\n",
       "      <td id=\"T_ee64e_row6_col1\" class=\"data row6 col1\" >0.8045</td>\n",
       "      <td id=\"T_ee64e_row6_col2\" class=\"data row6 col2\" >0.5789</td>\n",
       "      <td id=\"T_ee64e_row6_col3\" class=\"data row6 col3\" >0.6471</td>\n",
       "      <td id=\"T_ee64e_row6_col4\" class=\"data row6 col4\" >0.6111</td>\n",
       "      <td id=\"T_ee64e_row6_col5\" class=\"data row6 col5\" >0.4176</td>\n",
       "      <td id=\"T_ee64e_row6_col6\" class=\"data row6 col6\" >0.4190</td>\n",
       "    </tr>\n",
       "    <tr>\n",
       "      <th id=\"T_ee64e_level0_row7\" class=\"row_heading level0 row7\" >7</th>\n",
       "      <td id=\"T_ee64e_row7_col0\" class=\"data row7 col0\" >0.7736</td>\n",
       "      <td id=\"T_ee64e_row7_col1\" class=\"data row7 col1\" >0.8746</td>\n",
       "      <td id=\"T_ee64e_row7_col2\" class=\"data row7 col2\" >0.4444</td>\n",
       "      <td id=\"T_ee64e_row7_col3\" class=\"data row7 col3\" >0.8000</td>\n",
       "      <td id=\"T_ee64e_row7_col4\" class=\"data row7 col4\" >0.5714</td>\n",
       "      <td id=\"T_ee64e_row7_col5\" class=\"data row7 col5\" >0.4342</td>\n",
       "      <td id=\"T_ee64e_row7_col6\" class=\"data row7 col6\" >0.4688</td>\n",
       "    </tr>\n",
       "    <tr>\n",
       "      <th id=\"T_ee64e_level0_row8\" class=\"row_heading level0 row8\" >8</th>\n",
       "      <td id=\"T_ee64e_row8_col0\" class=\"data row8 col0\" >0.6604</td>\n",
       "      <td id=\"T_ee64e_row8_col1\" class=\"data row8 col1\" >0.6778</td>\n",
       "      <td id=\"T_ee64e_row8_col2\" class=\"data row8 col2\" >0.4444</td>\n",
       "      <td id=\"T_ee64e_row8_col3\" class=\"data row8 col3\" >0.5000</td>\n",
       "      <td id=\"T_ee64e_row8_col4\" class=\"data row8 col4\" >0.4706</td>\n",
       "      <td id=\"T_ee64e_row8_col5\" class=\"data row8 col5\" >0.2219</td>\n",
       "      <td id=\"T_ee64e_row8_col6\" class=\"data row8 col6\" >0.2227</td>\n",
       "    </tr>\n",
       "    <tr>\n",
       "      <th id=\"T_ee64e_level0_row9\" class=\"row_heading level0 row9\" >9</th>\n",
       "      <td id=\"T_ee64e_row9_col0\" class=\"data row9 col0\" >0.7547</td>\n",
       "      <td id=\"T_ee64e_row9_col1\" class=\"data row9 col1\" >0.7159</td>\n",
       "      <td id=\"T_ee64e_row9_col2\" class=\"data row9 col2\" >0.5556</td>\n",
       "      <td id=\"T_ee64e_row9_col3\" class=\"data row9 col3\" >0.6667</td>\n",
       "      <td id=\"T_ee64e_row9_col4\" class=\"data row9 col4\" >0.6061</td>\n",
       "      <td id=\"T_ee64e_row9_col5\" class=\"data row9 col5\" >0.4301</td>\n",
       "      <td id=\"T_ee64e_row9_col6\" class=\"data row9 col6\" >0.4339</td>\n",
       "    </tr>\n",
       "    <tr>\n",
       "      <th id=\"T_ee64e_level0_row10\" class=\"row_heading level0 row10\" >Mean</th>\n",
       "      <td id=\"T_ee64e_row10_col0\" class=\"data row10 col0\" >0.7726</td>\n",
       "      <td id=\"T_ee64e_row10_col1\" class=\"data row10 col1\" >0.8043</td>\n",
       "      <td id=\"T_ee64e_row10_col2\" class=\"data row10 col2\" >0.5602</td>\n",
       "      <td id=\"T_ee64e_row10_col3\" class=\"data row10 col3\" >0.7289</td>\n",
       "      <td id=\"T_ee64e_row10_col4\" class=\"data row10 col4\" >0.6311</td>\n",
       "      <td id=\"T_ee64e_row10_col5\" class=\"data row10 col5\" >0.4709</td>\n",
       "      <td id=\"T_ee64e_row10_col6\" class=\"data row10 col6\" >0.4810</td>\n",
       "    </tr>\n",
       "    <tr>\n",
       "      <th id=\"T_ee64e_level0_row11\" class=\"row_heading level0 row11\" >Std</th>\n",
       "      <td id=\"T_ee64e_row11_col0\" class=\"data row11 col0\" >0.0790</td>\n",
       "      <td id=\"T_ee64e_row11_col1\" class=\"data row11 col1\" >0.0934</td>\n",
       "      <td id=\"T_ee64e_row11_col2\" class=\"data row11 col2\" >0.1177</td>\n",
       "      <td id=\"T_ee64e_row11_col3\" class=\"data row11 col3\" >0.1530</td>\n",
       "      <td id=\"T_ee64e_row11_col4\" class=\"data row11 col4\" >0.1280</td>\n",
       "      <td id=\"T_ee64e_row11_col5\" class=\"data row11 col5\" >0.1831</td>\n",
       "      <td id=\"T_ee64e_row11_col6\" class=\"data row11 col6\" >0.1865</td>\n",
       "    </tr>\n",
       "  </tbody>\n",
       "</table>\n"
      ],
      "text/plain": [
       "<pandas.io.formats.style.Styler at 0x27fe6423b90>"
      ]
     },
     "metadata": {},
     "output_type": "display_data"
    },
    {
     "data": {
      "text/html": [],
      "text/plain": [
       "<IPython.core.display.HTML object>"
      ]
     },
     "metadata": {},
     "output_type": "display_data"
    },
    {
     "name": "stdout",
     "output_type": "stream",
     "text": [
      "Fitting 10 folds for each of 10 candidates, totalling 100 fits\n",
      "Original model was better than the tuned model, hence it will be returned. NOTE: The display metrics are for the tuned model (not the original one).\n"
     ]
    }
   ],
   "source": [
    "tuned_model = tune_model(best_model, optimize='Accuracy')"
   ]
  },
  {
   "cell_type": "markdown",
   "id": "96e73009",
   "metadata": {},
   "source": [
    "Ajuste de hiperparámetros"
   ]
  },
  {
   "cell_type": "code",
   "execution_count": 12,
   "id": "975660d6",
   "metadata": {},
   "outputs": [
    {
     "data": {
      "text/html": [],
      "text/plain": [
       "<IPython.core.display.HTML object>"
      ]
     },
     "metadata": {},
     "output_type": "display_data"
    },
    {
     "data": {
      "text/html": [],
      "text/plain": [
       "<IPython.core.display.HTML object>"
      ]
     },
     "metadata": {},
     "output_type": "display_data"
    },
    {
     "data": {
      "text/html": [],
      "text/plain": [
       "<IPython.core.display.HTML object>"
      ]
     },
     "metadata": {},
     "output_type": "display_data"
    },
    {
     "name": "stdout",
     "output_type": "stream",
     "text": [
      "Fitting 10 folds for each of 10 candidates, totalling 100 fits\n",
      "Original model was better than the tuned model, hence it will be returned. NOTE: The display metrics are for the tuned model (not the original one).\n"
     ]
    },
    {
     "data": {
      "application/vnd.jupyter.widget-view+json": {
       "model_id": "67dc4e4dc8f24352aca6874a7c13169a",
       "version_major": 2,
       "version_minor": 0
      },
      "text/plain": [
       "interactive(children=(ToggleButtons(description='Plot Type:', icons=('',), options=(('Pipeline Plot', 'pipelin…"
      ]
     },
     "metadata": {},
     "output_type": "display_data"
    }
   ],
   "source": [
    "best_model_tuned = tune_model(best_model)\n",
    "evaluate_model(best_model_tuned)"
   ]
  },
  {
   "cell_type": "markdown",
   "id": "e34caa4d",
   "metadata": {},
   "source": [
    "#### c. Create an MLflow server from the Anaconda console, open it from a browser, and trace the path where the models will be saved. Also, recreate the classification models by naming the experiment 'diabetes_model,' adjust the hyperparameters of the best model, evaluate it, finalize it, and save everything in a folder called 'clf_models.'"
   ]
  },
  {
   "cell_type": "code",
   "execution_count": 38,
   "id": "18e3cf09",
   "metadata": {},
   "outputs": [],
   "source": [
    "# pip install mlflow"
   ]
  },
  {
   "cell_type": "code",
   "execution_count": 13,
   "id": "fb20beba",
   "metadata": {},
   "outputs": [],
   "source": [
    "import mlflow"
   ]
  },
  {
   "cell_type": "code",
   "execution_count": 14,
   "id": "39749d9c",
   "metadata": {},
   "outputs": [],
   "source": [
    "mlflow.set_tracking_uri(\"http://127.0.0.1:5000/\")"
   ]
  },
  {
   "cell_type": "code",
   "execution_count": 15,
   "id": "a6c512b5",
   "metadata": {},
   "outputs": [],
   "source": [
    "# Reinicializar el entorno, esta vez asignando un nombre de experimento para MLflow\n",
    "exp_name = 'modelo_diabetes'"
   ]
  },
  {
   "cell_type": "code",
   "execution_count": 16,
   "id": "71ca318f",
   "metadata": {},
   "outputs": [
    {
     "data": {
      "text/plain": [
       "<Experiment: artifact_location='mlflow-artifacts:/210508941535348442', creation_time=1743043535737, experiment_id='210508941535348442', last_update_time=1743043535737, lifecycle_stage='active', name='modelo_diabetes', tags={}>"
      ]
     },
     "execution_count": 16,
     "metadata": {},
     "output_type": "execute_result"
    }
   ],
   "source": [
    "# Configurar el experimento de MLflow (esto se sobrescribe si ya existe uno con el mismo nombre)\n",
    "mlflow.set_experiment(exp_name)"
   ]
  },
  {
   "cell_type": "markdown",
   "id": "621675a6",
   "metadata": {},
   "source": [
    "Verifica el entorno activo"
   ]
  },
  {
   "cell_type": "code",
   "execution_count": 17,
   "id": "e4bee6a4",
   "metadata": {},
   "outputs": [
    {
     "name": "stdout",
     "output_type": "stream",
     "text": [
      "c:\\ProgramData\\anaconda3\\python.exe\n"
     ]
    }
   ],
   "source": [
    "import sys\n",
    "print(sys.executable)"
   ]
  },
  {
   "cell_type": "code",
   "execution_count": 18,
   "id": "8ffe9169",
   "metadata": {},
   "outputs": [],
   "source": [
    "# !pip show mlflow"
   ]
  },
  {
   "cell_type": "code",
   "execution_count": 19,
   "id": "b0419523",
   "metadata": {},
   "outputs": [
    {
     "data": {
      "text/html": [
       "<style type=\"text/css\">\n",
       "#T_4736f_row8_col1 {\n",
       "  background-color: lightgreen;\n",
       "}\n",
       "</style>\n",
       "<table id=\"T_4736f\">\n",
       "  <thead>\n",
       "    <tr>\n",
       "      <th class=\"blank level0\" >&nbsp;</th>\n",
       "      <th id=\"T_4736f_level0_col0\" class=\"col_heading level0 col0\" >Description</th>\n",
       "      <th id=\"T_4736f_level0_col1\" class=\"col_heading level0 col1\" >Value</th>\n",
       "    </tr>\n",
       "  </thead>\n",
       "  <tbody>\n",
       "    <tr>\n",
       "      <th id=\"T_4736f_level0_row0\" class=\"row_heading level0 row0\" >0</th>\n",
       "      <td id=\"T_4736f_row0_col0\" class=\"data row0 col0\" >Session id</td>\n",
       "      <td id=\"T_4736f_row0_col1\" class=\"data row0 col1\" >123</td>\n",
       "    </tr>\n",
       "    <tr>\n",
       "      <th id=\"T_4736f_level0_row1\" class=\"row_heading level0 row1\" >1</th>\n",
       "      <td id=\"T_4736f_row1_col0\" class=\"data row1 col0\" >Target</td>\n",
       "      <td id=\"T_4736f_row1_col1\" class=\"data row1 col1\" >Outcome</td>\n",
       "    </tr>\n",
       "    <tr>\n",
       "      <th id=\"T_4736f_level0_row2\" class=\"row_heading level0 row2\" >2</th>\n",
       "      <td id=\"T_4736f_row2_col0\" class=\"data row2 col0\" >Target type</td>\n",
       "      <td id=\"T_4736f_row2_col1\" class=\"data row2 col1\" >Binary</td>\n",
       "    </tr>\n",
       "    <tr>\n",
       "      <th id=\"T_4736f_level0_row3\" class=\"row_heading level0 row3\" >3</th>\n",
       "      <td id=\"T_4736f_row3_col0\" class=\"data row3 col0\" >Original data shape</td>\n",
       "      <td id=\"T_4736f_row3_col1\" class=\"data row3 col1\" >(768, 9)</td>\n",
       "    </tr>\n",
       "    <tr>\n",
       "      <th id=\"T_4736f_level0_row4\" class=\"row_heading level0 row4\" >4</th>\n",
       "      <td id=\"T_4736f_row4_col0\" class=\"data row4 col0\" >Transformed data shape</td>\n",
       "      <td id=\"T_4736f_row4_col1\" class=\"data row4 col1\" >(768, 9)</td>\n",
       "    </tr>\n",
       "    <tr>\n",
       "      <th id=\"T_4736f_level0_row5\" class=\"row_heading level0 row5\" >5</th>\n",
       "      <td id=\"T_4736f_row5_col0\" class=\"data row5 col0\" >Transformed train set shape</td>\n",
       "      <td id=\"T_4736f_row5_col1\" class=\"data row5 col1\" >(537, 9)</td>\n",
       "    </tr>\n",
       "    <tr>\n",
       "      <th id=\"T_4736f_level0_row6\" class=\"row_heading level0 row6\" >6</th>\n",
       "      <td id=\"T_4736f_row6_col0\" class=\"data row6 col0\" >Transformed test set shape</td>\n",
       "      <td id=\"T_4736f_row6_col1\" class=\"data row6 col1\" >(231, 9)</td>\n",
       "    </tr>\n",
       "    <tr>\n",
       "      <th id=\"T_4736f_level0_row7\" class=\"row_heading level0 row7\" >7</th>\n",
       "      <td id=\"T_4736f_row7_col0\" class=\"data row7 col0\" >Numeric features</td>\n",
       "      <td id=\"T_4736f_row7_col1\" class=\"data row7 col1\" >8</td>\n",
       "    </tr>\n",
       "    <tr>\n",
       "      <th id=\"T_4736f_level0_row8\" class=\"row_heading level0 row8\" >8</th>\n",
       "      <td id=\"T_4736f_row8_col0\" class=\"data row8 col0\" >Preprocess</td>\n",
       "      <td id=\"T_4736f_row8_col1\" class=\"data row8 col1\" >True</td>\n",
       "    </tr>\n",
       "    <tr>\n",
       "      <th id=\"T_4736f_level0_row9\" class=\"row_heading level0 row9\" >9</th>\n",
       "      <td id=\"T_4736f_row9_col0\" class=\"data row9 col0\" >Imputation type</td>\n",
       "      <td id=\"T_4736f_row9_col1\" class=\"data row9 col1\" >simple</td>\n",
       "    </tr>\n",
       "    <tr>\n",
       "      <th id=\"T_4736f_level0_row10\" class=\"row_heading level0 row10\" >10</th>\n",
       "      <td id=\"T_4736f_row10_col0\" class=\"data row10 col0\" >Numeric imputation</td>\n",
       "      <td id=\"T_4736f_row10_col1\" class=\"data row10 col1\" >mean</td>\n",
       "    </tr>\n",
       "    <tr>\n",
       "      <th id=\"T_4736f_level0_row11\" class=\"row_heading level0 row11\" >11</th>\n",
       "      <td id=\"T_4736f_row11_col0\" class=\"data row11 col0\" >Categorical imputation</td>\n",
       "      <td id=\"T_4736f_row11_col1\" class=\"data row11 col1\" >mode</td>\n",
       "    </tr>\n",
       "    <tr>\n",
       "      <th id=\"T_4736f_level0_row12\" class=\"row_heading level0 row12\" >12</th>\n",
       "      <td id=\"T_4736f_row12_col0\" class=\"data row12 col0\" >Fold Generator</td>\n",
       "      <td id=\"T_4736f_row12_col1\" class=\"data row12 col1\" >StratifiedKFold</td>\n",
       "    </tr>\n",
       "    <tr>\n",
       "      <th id=\"T_4736f_level0_row13\" class=\"row_heading level0 row13\" >13</th>\n",
       "      <td id=\"T_4736f_row13_col0\" class=\"data row13 col0\" >Fold Number</td>\n",
       "      <td id=\"T_4736f_row13_col1\" class=\"data row13 col1\" >10</td>\n",
       "    </tr>\n",
       "    <tr>\n",
       "      <th id=\"T_4736f_level0_row14\" class=\"row_heading level0 row14\" >14</th>\n",
       "      <td id=\"T_4736f_row14_col0\" class=\"data row14 col0\" >CPU Jobs</td>\n",
       "      <td id=\"T_4736f_row14_col1\" class=\"data row14 col1\" >-1</td>\n",
       "    </tr>\n",
       "    <tr>\n",
       "      <th id=\"T_4736f_level0_row15\" class=\"row_heading level0 row15\" >15</th>\n",
       "      <td id=\"T_4736f_row15_col0\" class=\"data row15 col0\" >Use GPU</td>\n",
       "      <td id=\"T_4736f_row15_col1\" class=\"data row15 col1\" >False</td>\n",
       "    </tr>\n",
       "    <tr>\n",
       "      <th id=\"T_4736f_level0_row16\" class=\"row_heading level0 row16\" >16</th>\n",
       "      <td id=\"T_4736f_row16_col0\" class=\"data row16 col0\" >Log Experiment</td>\n",
       "      <td id=\"T_4736f_row16_col1\" class=\"data row16 col1\" >MlflowLogger</td>\n",
       "    </tr>\n",
       "    <tr>\n",
       "      <th id=\"T_4736f_level0_row17\" class=\"row_heading level0 row17\" >17</th>\n",
       "      <td id=\"T_4736f_row17_col0\" class=\"data row17 col0\" >Experiment Name</td>\n",
       "      <td id=\"T_4736f_row17_col1\" class=\"data row17 col1\" >modelo_diabetes</td>\n",
       "    </tr>\n",
       "    <tr>\n",
       "      <th id=\"T_4736f_level0_row18\" class=\"row_heading level0 row18\" >18</th>\n",
       "      <td id=\"T_4736f_row18_col0\" class=\"data row18 col0\" >USI</td>\n",
       "      <td id=\"T_4736f_row18_col1\" class=\"data row18 col1\" >fe2d</td>\n",
       "    </tr>\n",
       "  </tbody>\n",
       "</table>\n"
      ],
      "text/plain": [
       "<pandas.io.formats.style.Styler at 0x27fef746610>"
      ]
     },
     "metadata": {},
     "output_type": "display_data"
    },
    {
     "ename": "AttributeError",
     "evalue": "'ThreadLocalVariable' object has no attribute 'copy'",
     "output_type": "error",
     "traceback": [
      "\u001b[1;31m---------------------------------------------------------------------------\u001b[0m",
      "\u001b[1;31mAttributeError\u001b[0m                            Traceback (most recent call last)",
      "Cell \u001b[1;32mIn[19], line 1\u001b[0m\n\u001b[1;32m----> 1\u001b[0m clf_setup \u001b[38;5;241m=\u001b[39m setup(data\u001b[38;5;241m=\u001b[39mdata, target\u001b[38;5;241m=\u001b[39m\u001b[38;5;124m'\u001b[39m\u001b[38;5;124mOutcome\u001b[39m\u001b[38;5;124m'\u001b[39m, session_id\u001b[38;5;241m=\u001b[39m\u001b[38;5;241m123\u001b[39m, experiment_name\u001b[38;5;241m=\u001b[39mexp_name, log_experiment\u001b[38;5;241m=\u001b[39m\u001b[38;5;28;01mTrue\u001b[39;00m)\n",
      "File \u001b[1;32m~\\AppData\\Roaming\\Python\\Python311\\site-packages\\pycaret\\classification\\functional.py:595\u001b[0m, in \u001b[0;36msetup\u001b[1;34m(data, data_func, target, index, train_size, test_data, ordinal_features, numeric_features, categorical_features, date_features, text_features, ignore_features, keep_features, preprocess, create_date_columns, imputation_type, numeric_imputation, categorical_imputation, iterative_imputation_iters, numeric_iterative_imputer, categorical_iterative_imputer, text_features_method, max_encoding_ohe, encoding_method, rare_to_value, rare_value, polynomial_features, polynomial_degree, low_variance_threshold, group_features, drop_groups, remove_multicollinearity, multicollinearity_threshold, bin_numeric_features, remove_outliers, outliers_method, outliers_threshold, fix_imbalance, fix_imbalance_method, transformation, transformation_method, normalize, normalize_method, pca, pca_method, pca_components, feature_selection, feature_selection_method, feature_selection_estimator, n_features_to_select, custom_pipeline, custom_pipeline_position, data_split_shuffle, data_split_stratify, fold_strategy, fold, fold_shuffle, fold_groups, n_jobs, use_gpu, html, session_id, system_log, log_experiment, experiment_name, experiment_custom_tags, log_plots, log_profile, log_data, verbose, memory, profile, profile_kwargs)\u001b[0m\n\u001b[0;32m    593\u001b[0m exp \u001b[38;5;241m=\u001b[39m _EXPERIMENT_CLASS()\n\u001b[0;32m    594\u001b[0m set_current_experiment(exp)\n\u001b[1;32m--> 595\u001b[0m \u001b[38;5;28;01mreturn\u001b[39;00m exp\u001b[38;5;241m.\u001b[39msetup(\n\u001b[0;32m    596\u001b[0m     data\u001b[38;5;241m=\u001b[39mdata,\n\u001b[0;32m    597\u001b[0m     data_func\u001b[38;5;241m=\u001b[39mdata_func,\n\u001b[0;32m    598\u001b[0m     target\u001b[38;5;241m=\u001b[39mtarget,\n\u001b[0;32m    599\u001b[0m     index\u001b[38;5;241m=\u001b[39mindex,\n\u001b[0;32m    600\u001b[0m     train_size\u001b[38;5;241m=\u001b[39mtrain_size,\n\u001b[0;32m    601\u001b[0m     test_data\u001b[38;5;241m=\u001b[39mtest_data,\n\u001b[0;32m    602\u001b[0m     ordinal_features\u001b[38;5;241m=\u001b[39mordinal_features,\n\u001b[0;32m    603\u001b[0m     numeric_features\u001b[38;5;241m=\u001b[39mnumeric_features,\n\u001b[0;32m    604\u001b[0m     categorical_features\u001b[38;5;241m=\u001b[39mcategorical_features,\n\u001b[0;32m    605\u001b[0m     date_features\u001b[38;5;241m=\u001b[39mdate_features,\n\u001b[0;32m    606\u001b[0m     text_features\u001b[38;5;241m=\u001b[39mtext_features,\n\u001b[0;32m    607\u001b[0m     ignore_features\u001b[38;5;241m=\u001b[39mignore_features,\n\u001b[0;32m    608\u001b[0m     keep_features\u001b[38;5;241m=\u001b[39mkeep_features,\n\u001b[0;32m    609\u001b[0m     preprocess\u001b[38;5;241m=\u001b[39mpreprocess,\n\u001b[0;32m    610\u001b[0m     create_date_columns\u001b[38;5;241m=\u001b[39mcreate_date_columns,\n\u001b[0;32m    611\u001b[0m     imputation_type\u001b[38;5;241m=\u001b[39mimputation_type,\n\u001b[0;32m    612\u001b[0m     numeric_imputation\u001b[38;5;241m=\u001b[39mnumeric_imputation,\n\u001b[0;32m    613\u001b[0m     categorical_imputation\u001b[38;5;241m=\u001b[39mcategorical_imputation,\n\u001b[0;32m    614\u001b[0m     iterative_imputation_iters\u001b[38;5;241m=\u001b[39miterative_imputation_iters,\n\u001b[0;32m    615\u001b[0m     numeric_iterative_imputer\u001b[38;5;241m=\u001b[39mnumeric_iterative_imputer,\n\u001b[0;32m    616\u001b[0m     categorical_iterative_imputer\u001b[38;5;241m=\u001b[39mcategorical_iterative_imputer,\n\u001b[0;32m    617\u001b[0m     text_features_method\u001b[38;5;241m=\u001b[39mtext_features_method,\n\u001b[0;32m    618\u001b[0m     max_encoding_ohe\u001b[38;5;241m=\u001b[39mmax_encoding_ohe,\n\u001b[0;32m    619\u001b[0m     encoding_method\u001b[38;5;241m=\u001b[39mencoding_method,\n\u001b[0;32m    620\u001b[0m     rare_to_value\u001b[38;5;241m=\u001b[39mrare_to_value,\n\u001b[0;32m    621\u001b[0m     rare_value\u001b[38;5;241m=\u001b[39mrare_value,\n\u001b[0;32m    622\u001b[0m     polynomial_features\u001b[38;5;241m=\u001b[39mpolynomial_features,\n\u001b[0;32m    623\u001b[0m     polynomial_degree\u001b[38;5;241m=\u001b[39mpolynomial_degree,\n\u001b[0;32m    624\u001b[0m     low_variance_threshold\u001b[38;5;241m=\u001b[39mlow_variance_threshold,\n\u001b[0;32m    625\u001b[0m     group_features\u001b[38;5;241m=\u001b[39mgroup_features,\n\u001b[0;32m    626\u001b[0m     drop_groups\u001b[38;5;241m=\u001b[39mdrop_groups,\n\u001b[0;32m    627\u001b[0m     remove_multicollinearity\u001b[38;5;241m=\u001b[39mremove_multicollinearity,\n\u001b[0;32m    628\u001b[0m     multicollinearity_threshold\u001b[38;5;241m=\u001b[39mmulticollinearity_threshold,\n\u001b[0;32m    629\u001b[0m     bin_numeric_features\u001b[38;5;241m=\u001b[39mbin_numeric_features,\n\u001b[0;32m    630\u001b[0m     remove_outliers\u001b[38;5;241m=\u001b[39mremove_outliers,\n\u001b[0;32m    631\u001b[0m     outliers_method\u001b[38;5;241m=\u001b[39moutliers_method,\n\u001b[0;32m    632\u001b[0m     outliers_threshold\u001b[38;5;241m=\u001b[39moutliers_threshold,\n\u001b[0;32m    633\u001b[0m     fix_imbalance\u001b[38;5;241m=\u001b[39mfix_imbalance,\n\u001b[0;32m    634\u001b[0m     fix_imbalance_method\u001b[38;5;241m=\u001b[39mfix_imbalance_method,\n\u001b[0;32m    635\u001b[0m     transformation\u001b[38;5;241m=\u001b[39mtransformation,\n\u001b[0;32m    636\u001b[0m     transformation_method\u001b[38;5;241m=\u001b[39mtransformation_method,\n\u001b[0;32m    637\u001b[0m     normalize\u001b[38;5;241m=\u001b[39mnormalize,\n\u001b[0;32m    638\u001b[0m     normalize_method\u001b[38;5;241m=\u001b[39mnormalize_method,\n\u001b[0;32m    639\u001b[0m     pca\u001b[38;5;241m=\u001b[39mpca,\n\u001b[0;32m    640\u001b[0m     pca_method\u001b[38;5;241m=\u001b[39mpca_method,\n\u001b[0;32m    641\u001b[0m     pca_components\u001b[38;5;241m=\u001b[39mpca_components,\n\u001b[0;32m    642\u001b[0m     feature_selection\u001b[38;5;241m=\u001b[39mfeature_selection,\n\u001b[0;32m    643\u001b[0m     feature_selection_method\u001b[38;5;241m=\u001b[39mfeature_selection_method,\n\u001b[0;32m    644\u001b[0m     feature_selection_estimator\u001b[38;5;241m=\u001b[39mfeature_selection_estimator,\n\u001b[0;32m    645\u001b[0m     n_features_to_select\u001b[38;5;241m=\u001b[39mn_features_to_select,\n\u001b[0;32m    646\u001b[0m     custom_pipeline\u001b[38;5;241m=\u001b[39mcustom_pipeline,\n\u001b[0;32m    647\u001b[0m     custom_pipeline_position\u001b[38;5;241m=\u001b[39mcustom_pipeline_position,\n\u001b[0;32m    648\u001b[0m     data_split_shuffle\u001b[38;5;241m=\u001b[39mdata_split_shuffle,\n\u001b[0;32m    649\u001b[0m     data_split_stratify\u001b[38;5;241m=\u001b[39mdata_split_stratify,\n\u001b[0;32m    650\u001b[0m     fold_strategy\u001b[38;5;241m=\u001b[39mfold_strategy,\n\u001b[0;32m    651\u001b[0m     fold\u001b[38;5;241m=\u001b[39mfold,\n\u001b[0;32m    652\u001b[0m     fold_shuffle\u001b[38;5;241m=\u001b[39mfold_shuffle,\n\u001b[0;32m    653\u001b[0m     fold_groups\u001b[38;5;241m=\u001b[39mfold_groups,\n\u001b[0;32m    654\u001b[0m     n_jobs\u001b[38;5;241m=\u001b[39mn_jobs,\n\u001b[0;32m    655\u001b[0m     use_gpu\u001b[38;5;241m=\u001b[39muse_gpu,\n\u001b[0;32m    656\u001b[0m     html\u001b[38;5;241m=\u001b[39mhtml,\n\u001b[0;32m    657\u001b[0m     session_id\u001b[38;5;241m=\u001b[39msession_id,\n\u001b[0;32m    658\u001b[0m     system_log\u001b[38;5;241m=\u001b[39msystem_log,\n\u001b[0;32m    659\u001b[0m     log_experiment\u001b[38;5;241m=\u001b[39mlog_experiment,\n\u001b[0;32m    660\u001b[0m     experiment_name\u001b[38;5;241m=\u001b[39mexperiment_name,\n\u001b[0;32m    661\u001b[0m     experiment_custom_tags\u001b[38;5;241m=\u001b[39mexperiment_custom_tags,\n\u001b[0;32m    662\u001b[0m     log_plots\u001b[38;5;241m=\u001b[39mlog_plots,\n\u001b[0;32m    663\u001b[0m     log_profile\u001b[38;5;241m=\u001b[39mlog_profile,\n\u001b[0;32m    664\u001b[0m     log_data\u001b[38;5;241m=\u001b[39mlog_data,\n\u001b[0;32m    665\u001b[0m     verbose\u001b[38;5;241m=\u001b[39mverbose,\n\u001b[0;32m    666\u001b[0m     memory\u001b[38;5;241m=\u001b[39mmemory,\n\u001b[0;32m    667\u001b[0m     profile\u001b[38;5;241m=\u001b[39mprofile,\n\u001b[0;32m    668\u001b[0m     profile_kwargs\u001b[38;5;241m=\u001b[39mprofile_kwargs,\n\u001b[0;32m    669\u001b[0m )\n",
      "File \u001b[1;32m~\\AppData\\Roaming\\Python\\Python311\\site-packages\\pycaret\\classification\\oop.py:1014\u001b[0m, in \u001b[0;36mClassificationExperiment.setup\u001b[1;34m(self, data, data_func, target, index, train_size, test_data, ordinal_features, numeric_features, categorical_features, date_features, text_features, ignore_features, keep_features, preprocess, create_date_columns, imputation_type, numeric_imputation, categorical_imputation, iterative_imputation_iters, numeric_iterative_imputer, categorical_iterative_imputer, text_features_method, max_encoding_ohe, encoding_method, rare_to_value, rare_value, polynomial_features, polynomial_degree, low_variance_threshold, group_features, drop_groups, remove_multicollinearity, multicollinearity_threshold, bin_numeric_features, remove_outliers, outliers_method, outliers_threshold, fix_imbalance, fix_imbalance_method, transformation, transformation_method, normalize, normalize_method, pca, pca_method, pca_components, feature_selection, feature_selection_method, feature_selection_estimator, n_features_to_select, custom_pipeline, custom_pipeline_position, data_split_shuffle, data_split_stratify, fold_strategy, fold, fold_shuffle, fold_groups, n_jobs, use_gpu, html, session_id, system_log, log_experiment, experiment_name, experiment_custom_tags, log_plots, log_profile, log_data, engine, verbose, memory, profile, profile_kwargs)\u001b[0m\n\u001b[0;32m   1011\u001b[0m \u001b[38;5;28mself\u001b[39m\u001b[38;5;241m.\u001b[39m_all_metrics \u001b[38;5;241m=\u001b[39m \u001b[38;5;28mself\u001b[39m\u001b[38;5;241m.\u001b[39m_get_metrics()\n\u001b[0;32m   1013\u001b[0m runtime \u001b[38;5;241m=\u001b[39m np\u001b[38;5;241m.\u001b[39marray(time\u001b[38;5;241m.\u001b[39mtime() \u001b[38;5;241m-\u001b[39m runtime_start)\u001b[38;5;241m.\u001b[39mround(\u001b[38;5;241m2\u001b[39m)\n\u001b[1;32m-> 1014\u001b[0m \u001b[38;5;28mself\u001b[39m\u001b[38;5;241m.\u001b[39m_set_up_logging(\n\u001b[0;32m   1015\u001b[0m     runtime,\n\u001b[0;32m   1016\u001b[0m     log_data,\n\u001b[0;32m   1017\u001b[0m     log_profile,\n\u001b[0;32m   1018\u001b[0m     experiment_custom_tags\u001b[38;5;241m=\u001b[39mexperiment_custom_tags,\n\u001b[0;32m   1019\u001b[0m )\n\u001b[0;32m   1021\u001b[0m \u001b[38;5;28mself\u001b[39m\u001b[38;5;241m.\u001b[39m_setup_ran \u001b[38;5;241m=\u001b[39m \u001b[38;5;28;01mTrue\u001b[39;00m\n\u001b[0;32m   1022\u001b[0m \u001b[38;5;28mself\u001b[39m\u001b[38;5;241m.\u001b[39mlogger\u001b[38;5;241m.\u001b[39minfo(\u001b[38;5;124mf\u001b[39m\u001b[38;5;124m\"\u001b[39m\u001b[38;5;124msetup() successfully completed in \u001b[39m\u001b[38;5;132;01m{\u001b[39;00mruntime\u001b[38;5;132;01m}\u001b[39;00m\u001b[38;5;124ms...............\u001b[39m\u001b[38;5;124m\"\u001b[39m)\n",
      "File \u001b[1;32m~\\AppData\\Roaming\\Python\\Python311\\site-packages\\pycaret\\internal\\pycaret_experiment\\supervised_experiment.py:268\u001b[0m, in \u001b[0;36m_SupervisedExperiment._set_up_logging\u001b[1;34m(self, runtime, log_data, log_profile, experiment_custom_tags)\u001b[0m\n\u001b[0;32m    263\u001b[0m         \u001b[38;5;28;01mraise\u001b[39;00m \u001b[38;5;167;01mTypeError\u001b[39;00m(\n\u001b[0;32m    264\u001b[0m             \u001b[38;5;124m\"\u001b[39m\u001b[38;5;124mexperiment_custom_tags parameter must be dict if not None\u001b[39m\u001b[38;5;124m\"\u001b[39m\n\u001b[0;32m    265\u001b[0m         )\n\u001b[0;32m    267\u001b[0m \u001b[38;5;28;01mif\u001b[39;00m \u001b[38;5;28mself\u001b[39m\u001b[38;5;241m.\u001b[39mlogging_param:\n\u001b[1;32m--> 268\u001b[0m     \u001b[38;5;28mself\u001b[39m\u001b[38;5;241m.\u001b[39mlogging_param\u001b[38;5;241m.\u001b[39mlog_experiment(\n\u001b[0;32m    269\u001b[0m         \u001b[38;5;28mself\u001b[39m,\n\u001b[0;32m    270\u001b[0m         log_profile,\n\u001b[0;32m    271\u001b[0m         log_data,\n\u001b[0;32m    272\u001b[0m         experiment_custom_tags,\n\u001b[0;32m    273\u001b[0m         runtime,\n\u001b[0;32m    274\u001b[0m     )\n",
      "File \u001b[1;32m~\\AppData\\Roaming\\Python\\Python311\\site-packages\\pycaret\\loggers\\dashboard_logger.py:208\u001b[0m, in \u001b[0;36mDashboardLogger.log_experiment\u001b[1;34m(self, experiment, log_profile, log_data, experiment_custom_tags, runtime)\u001b[0m\n\u001b[0;32m    206\u001b[0m params \u001b[38;5;241m=\u001b[39m kdict\u001b[38;5;241m.\u001b[39mget(\u001b[38;5;124m\"\u001b[39m\u001b[38;5;124mValue\u001b[39m\u001b[38;5;124m\"\u001b[39m)\n\u001b[0;32m    207\u001b[0m \u001b[38;5;28;01mfor\u001b[39;00m logger \u001b[38;5;129;01min\u001b[39;00m \u001b[38;5;28mself\u001b[39m\u001b[38;5;241m.\u001b[39mloggers:\n\u001b[1;32m--> 208\u001b[0m     logger\u001b[38;5;241m.\u001b[39minit_experiment(\n\u001b[0;32m    209\u001b[0m         experiment\u001b[38;5;241m.\u001b[39mexp_name_log, \u001b[38;5;124mf\u001b[39m\u001b[38;5;124m\"\u001b[39m\u001b[38;5;132;01m{\u001b[39;00mSETUP_TAG\u001b[38;5;132;01m}\u001b[39;00m\u001b[38;5;124m \u001b[39m\u001b[38;5;132;01m{\u001b[39;00mexperiment\u001b[38;5;241m.\u001b[39mUSI\u001b[38;5;132;01m}\u001b[39;00m\u001b[38;5;124m\"\u001b[39m, setup\u001b[38;5;241m=\u001b[39m\u001b[38;5;28;01mTrue\u001b[39;00m\n\u001b[0;32m    210\u001b[0m     )\n\u001b[0;32m    211\u001b[0m     logger\u001b[38;5;241m.\u001b[39mlog_params(params, \u001b[38;5;124m\"\u001b[39m\u001b[38;5;124msetup\u001b[39m\u001b[38;5;124m\"\u001b[39m)\n\u001b[0;32m    212\u001b[0m     logger\u001b[38;5;241m.\u001b[39mset_tags(\n\u001b[0;32m    213\u001b[0m         \u001b[38;5;124m\"\u001b[39m\u001b[38;5;124msetup\u001b[39m\u001b[38;5;124m\"\u001b[39m, experiment_custom_tags, runtime, USI\u001b[38;5;241m=\u001b[39mexperiment\u001b[38;5;241m.\u001b[39mUSI\n\u001b[0;32m    214\u001b[0m     )\n",
      "File \u001b[1;32m~\\AppData\\Roaming\\Python\\Python311\\site-packages\\pycaret\\loggers\\mlflow_logger.py:57\u001b[0m, in \u001b[0;36mMlflowLogger.init_experiment\u001b[1;34m(self, exp_name_log, full_name, setup)\u001b[0m\n\u001b[0;32m     53\u001b[0m mlflow\u001b[38;5;241m.\u001b[39mset_experiment(exp_name_log)\n\u001b[0;32m     54\u001b[0m \u001b[38;5;28;01mif\u001b[39;00m setup:\n\u001b[0;32m     55\u001b[0m     \u001b[38;5;66;03m# If we are starting a new experiment with setup,\u001b[39;00m\n\u001b[0;32m     56\u001b[0m     \u001b[38;5;66;03m# make sure we do not nest it in any other run\u001b[39;00m\n\u001b[1;32m---> 57\u001b[0m     \u001b[38;5;28;01mwith\u001b[39;00m clean_active_mlflow_run():\n\u001b[0;32m     58\u001b[0m         run \u001b[38;5;241m=\u001b[39m mlflow\u001b[38;5;241m.\u001b[39mstart_run(run_name\u001b[38;5;241m=\u001b[39mfull_name)\n\u001b[0;32m     59\u001b[0m \u001b[38;5;28;01melse\u001b[39;00m:\n",
      "File \u001b[1;32mc:\\ProgramData\\anaconda3\\Lib\\contextlib.py:137\u001b[0m, in \u001b[0;36m_GeneratorContextManager.__enter__\u001b[1;34m(self)\u001b[0m\n\u001b[0;32m    135\u001b[0m \u001b[38;5;28;01mdel\u001b[39;00m \u001b[38;5;28mself\u001b[39m\u001b[38;5;241m.\u001b[39margs, \u001b[38;5;28mself\u001b[39m\u001b[38;5;241m.\u001b[39mkwds, \u001b[38;5;28mself\u001b[39m\u001b[38;5;241m.\u001b[39mfunc\n\u001b[0;32m    136\u001b[0m \u001b[38;5;28;01mtry\u001b[39;00m:\n\u001b[1;32m--> 137\u001b[0m     \u001b[38;5;28;01mreturn\u001b[39;00m \u001b[38;5;28mnext\u001b[39m(\u001b[38;5;28mself\u001b[39m\u001b[38;5;241m.\u001b[39mgen)\n\u001b[0;32m    138\u001b[0m \u001b[38;5;28;01mexcept\u001b[39;00m \u001b[38;5;167;01mStopIteration\u001b[39;00m:\n\u001b[0;32m    139\u001b[0m     \u001b[38;5;28;01mraise\u001b[39;00m \u001b[38;5;167;01mRuntimeError\u001b[39;00m(\u001b[38;5;124m\"\u001b[39m\u001b[38;5;124mgenerator didn\u001b[39m\u001b[38;5;124m'\u001b[39m\u001b[38;5;124mt yield\u001b[39m\u001b[38;5;124m\"\u001b[39m) \u001b[38;5;28;01mfrom\u001b[39;00m \u001b[38;5;28;01mNone\u001b[39;00m\n",
      "File \u001b[1;32m~\\AppData\\Roaming\\Python\\Python311\\site-packages\\pycaret\\loggers\\mlflow_logger.py:33\u001b[0m, in \u001b[0;36mclean_active_mlflow_run\u001b[1;34m()\u001b[0m\n\u001b[0;32m     31\u001b[0m \u001b[38;5;250m\u001b[39m\u001b[38;5;124;03m\"\"\"Trick MLFLow into thinking there are no active runs.\"\"\"\u001b[39;00m\n\u001b[0;32m     32\u001b[0m \u001b[38;5;28;01mglobal\u001b[39;00m _active_run_stack\n\u001b[1;32m---> 33\u001b[0m old_run_stack \u001b[38;5;241m=\u001b[39m _active_run_stack\u001b[38;5;241m.\u001b[39mcopy()\n\u001b[0;32m     34\u001b[0m _active_run_stack\u001b[38;5;241m.\u001b[39mclear()\n\u001b[0;32m     35\u001b[0m \u001b[38;5;28;01myield\u001b[39;00m\n",
      "\u001b[1;31mAttributeError\u001b[0m: 'ThreadLocalVariable' object has no attribute 'copy'"
     ]
    }
   ],
   "source": [
    "clf_setup = setup(data=data, target='Outcome', session_id=123, experiment_name=exp_name, log_experiment=True)"
   ]
  },
  {
   "cell_type": "markdown",
   "id": "5f769927",
   "metadata": {},
   "source": [
    "## voy a DESHABILITAR temporalmente el log de experimentos de mlflow"
   ]
  },
  {
   "cell_type": "code",
   "execution_count": 20,
   "id": "c1c9c728",
   "metadata": {},
   "outputs": [
    {
     "data": {
      "text/html": [
       "<style type=\"text/css\">\n",
       "#T_cd03d_row8_col1 {\n",
       "  background-color: lightgreen;\n",
       "}\n",
       "</style>\n",
       "<table id=\"T_cd03d\">\n",
       "  <thead>\n",
       "    <tr>\n",
       "      <th class=\"blank level0\" >&nbsp;</th>\n",
       "      <th id=\"T_cd03d_level0_col0\" class=\"col_heading level0 col0\" >Description</th>\n",
       "      <th id=\"T_cd03d_level0_col1\" class=\"col_heading level0 col1\" >Value</th>\n",
       "    </tr>\n",
       "  </thead>\n",
       "  <tbody>\n",
       "    <tr>\n",
       "      <th id=\"T_cd03d_level0_row0\" class=\"row_heading level0 row0\" >0</th>\n",
       "      <td id=\"T_cd03d_row0_col0\" class=\"data row0 col0\" >Session id</td>\n",
       "      <td id=\"T_cd03d_row0_col1\" class=\"data row0 col1\" >123</td>\n",
       "    </tr>\n",
       "    <tr>\n",
       "      <th id=\"T_cd03d_level0_row1\" class=\"row_heading level0 row1\" >1</th>\n",
       "      <td id=\"T_cd03d_row1_col0\" class=\"data row1 col0\" >Target</td>\n",
       "      <td id=\"T_cd03d_row1_col1\" class=\"data row1 col1\" >Outcome</td>\n",
       "    </tr>\n",
       "    <tr>\n",
       "      <th id=\"T_cd03d_level0_row2\" class=\"row_heading level0 row2\" >2</th>\n",
       "      <td id=\"T_cd03d_row2_col0\" class=\"data row2 col0\" >Target type</td>\n",
       "      <td id=\"T_cd03d_row2_col1\" class=\"data row2 col1\" >Binary</td>\n",
       "    </tr>\n",
       "    <tr>\n",
       "      <th id=\"T_cd03d_level0_row3\" class=\"row_heading level0 row3\" >3</th>\n",
       "      <td id=\"T_cd03d_row3_col0\" class=\"data row3 col0\" >Original data shape</td>\n",
       "      <td id=\"T_cd03d_row3_col1\" class=\"data row3 col1\" >(768, 9)</td>\n",
       "    </tr>\n",
       "    <tr>\n",
       "      <th id=\"T_cd03d_level0_row4\" class=\"row_heading level0 row4\" >4</th>\n",
       "      <td id=\"T_cd03d_row4_col0\" class=\"data row4 col0\" >Transformed data shape</td>\n",
       "      <td id=\"T_cd03d_row4_col1\" class=\"data row4 col1\" >(768, 9)</td>\n",
       "    </tr>\n",
       "    <tr>\n",
       "      <th id=\"T_cd03d_level0_row5\" class=\"row_heading level0 row5\" >5</th>\n",
       "      <td id=\"T_cd03d_row5_col0\" class=\"data row5 col0\" >Transformed train set shape</td>\n",
       "      <td id=\"T_cd03d_row5_col1\" class=\"data row5 col1\" >(537, 9)</td>\n",
       "    </tr>\n",
       "    <tr>\n",
       "      <th id=\"T_cd03d_level0_row6\" class=\"row_heading level0 row6\" >6</th>\n",
       "      <td id=\"T_cd03d_row6_col0\" class=\"data row6 col0\" >Transformed test set shape</td>\n",
       "      <td id=\"T_cd03d_row6_col1\" class=\"data row6 col1\" >(231, 9)</td>\n",
       "    </tr>\n",
       "    <tr>\n",
       "      <th id=\"T_cd03d_level0_row7\" class=\"row_heading level0 row7\" >7</th>\n",
       "      <td id=\"T_cd03d_row7_col0\" class=\"data row7 col0\" >Numeric features</td>\n",
       "      <td id=\"T_cd03d_row7_col1\" class=\"data row7 col1\" >8</td>\n",
       "    </tr>\n",
       "    <tr>\n",
       "      <th id=\"T_cd03d_level0_row8\" class=\"row_heading level0 row8\" >8</th>\n",
       "      <td id=\"T_cd03d_row8_col0\" class=\"data row8 col0\" >Preprocess</td>\n",
       "      <td id=\"T_cd03d_row8_col1\" class=\"data row8 col1\" >True</td>\n",
       "    </tr>\n",
       "    <tr>\n",
       "      <th id=\"T_cd03d_level0_row9\" class=\"row_heading level0 row9\" >9</th>\n",
       "      <td id=\"T_cd03d_row9_col0\" class=\"data row9 col0\" >Imputation type</td>\n",
       "      <td id=\"T_cd03d_row9_col1\" class=\"data row9 col1\" >simple</td>\n",
       "    </tr>\n",
       "    <tr>\n",
       "      <th id=\"T_cd03d_level0_row10\" class=\"row_heading level0 row10\" >10</th>\n",
       "      <td id=\"T_cd03d_row10_col0\" class=\"data row10 col0\" >Numeric imputation</td>\n",
       "      <td id=\"T_cd03d_row10_col1\" class=\"data row10 col1\" >mean</td>\n",
       "    </tr>\n",
       "    <tr>\n",
       "      <th id=\"T_cd03d_level0_row11\" class=\"row_heading level0 row11\" >11</th>\n",
       "      <td id=\"T_cd03d_row11_col0\" class=\"data row11 col0\" >Categorical imputation</td>\n",
       "      <td id=\"T_cd03d_row11_col1\" class=\"data row11 col1\" >mode</td>\n",
       "    </tr>\n",
       "    <tr>\n",
       "      <th id=\"T_cd03d_level0_row12\" class=\"row_heading level0 row12\" >12</th>\n",
       "      <td id=\"T_cd03d_row12_col0\" class=\"data row12 col0\" >Fold Generator</td>\n",
       "      <td id=\"T_cd03d_row12_col1\" class=\"data row12 col1\" >StratifiedKFold</td>\n",
       "    </tr>\n",
       "    <tr>\n",
       "      <th id=\"T_cd03d_level0_row13\" class=\"row_heading level0 row13\" >13</th>\n",
       "      <td id=\"T_cd03d_row13_col0\" class=\"data row13 col0\" >Fold Number</td>\n",
       "      <td id=\"T_cd03d_row13_col1\" class=\"data row13 col1\" >10</td>\n",
       "    </tr>\n",
       "    <tr>\n",
       "      <th id=\"T_cd03d_level0_row14\" class=\"row_heading level0 row14\" >14</th>\n",
       "      <td id=\"T_cd03d_row14_col0\" class=\"data row14 col0\" >CPU Jobs</td>\n",
       "      <td id=\"T_cd03d_row14_col1\" class=\"data row14 col1\" >-1</td>\n",
       "    </tr>\n",
       "    <tr>\n",
       "      <th id=\"T_cd03d_level0_row15\" class=\"row_heading level0 row15\" >15</th>\n",
       "      <td id=\"T_cd03d_row15_col0\" class=\"data row15 col0\" >Use GPU</td>\n",
       "      <td id=\"T_cd03d_row15_col1\" class=\"data row15 col1\" >False</td>\n",
       "    </tr>\n",
       "    <tr>\n",
       "      <th id=\"T_cd03d_level0_row16\" class=\"row_heading level0 row16\" >16</th>\n",
       "      <td id=\"T_cd03d_row16_col0\" class=\"data row16 col0\" >Log Experiment</td>\n",
       "      <td id=\"T_cd03d_row16_col1\" class=\"data row16 col1\" >False</td>\n",
       "    </tr>\n",
       "    <tr>\n",
       "      <th id=\"T_cd03d_level0_row17\" class=\"row_heading level0 row17\" >17</th>\n",
       "      <td id=\"T_cd03d_row17_col0\" class=\"data row17 col0\" >Experiment Name</td>\n",
       "      <td id=\"T_cd03d_row17_col1\" class=\"data row17 col1\" >modelo_diabetes</td>\n",
       "    </tr>\n",
       "    <tr>\n",
       "      <th id=\"T_cd03d_level0_row18\" class=\"row_heading level0 row18\" >18</th>\n",
       "      <td id=\"T_cd03d_row18_col0\" class=\"data row18 col0\" >USI</td>\n",
       "      <td id=\"T_cd03d_row18_col1\" class=\"data row18 col1\" >9b8e</td>\n",
       "    </tr>\n",
       "  </tbody>\n",
       "</table>\n"
      ],
      "text/plain": [
       "<pandas.io.formats.style.Styler at 0x27ff5420a10>"
      ]
     },
     "metadata": {},
     "output_type": "display_data"
    }
   ],
   "source": [
    "clf_setup = setup(data=data, target='Outcome', session_id=123, experiment_name=exp_name, log_experiment=False)"
   ]
  },
  {
   "cell_type": "code",
   "execution_count": 21,
   "id": "b86f470e",
   "metadata": {},
   "outputs": [
    {
     "data": {
      "text/html": [],
      "text/plain": [
       "<IPython.core.display.HTML object>"
      ]
     },
     "metadata": {},
     "output_type": "display_data"
    },
    {
     "data": {
      "text/html": [
       "<style type=\"text/css\">\n",
       "#T_da349 th {\n",
       "  text-align: left;\n",
       "}\n",
       "#T_da349_row0_col0, #T_da349_row0_col2, #T_da349_row0_col3, #T_da349_row0_col4, #T_da349_row1_col0, #T_da349_row1_col1, #T_da349_row1_col3, #T_da349_row1_col5, #T_da349_row1_col6, #T_da349_row1_col7, #T_da349_row2_col0, #T_da349_row2_col1, #T_da349_row2_col2, #T_da349_row2_col3, #T_da349_row2_col4, #T_da349_row2_col5, #T_da349_row2_col6, #T_da349_row2_col7, #T_da349_row3_col0, #T_da349_row3_col1, #T_da349_row3_col2, #T_da349_row3_col3, #T_da349_row3_col4, #T_da349_row3_col5, #T_da349_row3_col6, #T_da349_row3_col7, #T_da349_row4_col0, #T_da349_row4_col1, #T_da349_row4_col2, #T_da349_row4_col4, #T_da349_row4_col5, #T_da349_row4_col6, #T_da349_row4_col7, #T_da349_row5_col0, #T_da349_row5_col1, #T_da349_row5_col2, #T_da349_row5_col3, #T_da349_row5_col4, #T_da349_row5_col5, #T_da349_row5_col6, #T_da349_row5_col7, #T_da349_row6_col0, #T_da349_row6_col1, #T_da349_row6_col2, #T_da349_row6_col3, #T_da349_row6_col4, #T_da349_row6_col5, #T_da349_row6_col6, #T_da349_row6_col7, #T_da349_row7_col0, #T_da349_row7_col1, #T_da349_row7_col2, #T_da349_row7_col3, #T_da349_row7_col4, #T_da349_row7_col5, #T_da349_row7_col6, #T_da349_row7_col7, #T_da349_row8_col0, #T_da349_row8_col1, #T_da349_row8_col2, #T_da349_row8_col3, #T_da349_row8_col4, #T_da349_row8_col5, #T_da349_row8_col6, #T_da349_row8_col7, #T_da349_row9_col0, #T_da349_row9_col1, #T_da349_row9_col2, #T_da349_row9_col3, #T_da349_row9_col4, #T_da349_row9_col5, #T_da349_row9_col6, #T_da349_row9_col7, #T_da349_row10_col0, #T_da349_row10_col1, #T_da349_row10_col2, #T_da349_row10_col3, #T_da349_row10_col4, #T_da349_row10_col5, #T_da349_row10_col6, #T_da349_row10_col7, #T_da349_row11_col0, #T_da349_row11_col1, #T_da349_row11_col2, #T_da349_row11_col3, #T_da349_row11_col4, #T_da349_row11_col5, #T_da349_row11_col6, #T_da349_row11_col7, #T_da349_row12_col0, #T_da349_row12_col1, #T_da349_row12_col2, #T_da349_row12_col3, #T_da349_row12_col4, #T_da349_row12_col5, #T_da349_row12_col6, #T_da349_row12_col7, #T_da349_row13_col0, #T_da349_row13_col1, #T_da349_row13_col2, #T_da349_row13_col3, #T_da349_row13_col4, #T_da349_row13_col5, #T_da349_row13_col6, #T_da349_row13_col7 {\n",
       "  text-align: left;\n",
       "}\n",
       "#T_da349_row0_col1, #T_da349_row0_col5, #T_da349_row0_col6, #T_da349_row0_col7, #T_da349_row1_col2, #T_da349_row1_col4, #T_da349_row4_col3 {\n",
       "  text-align: left;\n",
       "  background-color: yellow;\n",
       "}\n",
       "#T_da349_row0_col8, #T_da349_row1_col8, #T_da349_row2_col8, #T_da349_row3_col8, #T_da349_row4_col8, #T_da349_row5_col8, #T_da349_row6_col8, #T_da349_row7_col8, #T_da349_row8_col8, #T_da349_row9_col8, #T_da349_row10_col8, #T_da349_row11_col8, #T_da349_row13_col8 {\n",
       "  text-align: left;\n",
       "  background-color: lightgrey;\n",
       "}\n",
       "#T_da349_row12_col8 {\n",
       "  text-align: left;\n",
       "  background-color: yellow;\n",
       "  background-color: lightgrey;\n",
       "}\n",
       "</style>\n",
       "<table id=\"T_da349\">\n",
       "  <thead>\n",
       "    <tr>\n",
       "      <th class=\"blank level0\" >&nbsp;</th>\n",
       "      <th id=\"T_da349_level0_col0\" class=\"col_heading level0 col0\" >Model</th>\n",
       "      <th id=\"T_da349_level0_col1\" class=\"col_heading level0 col1\" >Accuracy</th>\n",
       "      <th id=\"T_da349_level0_col2\" class=\"col_heading level0 col2\" >AUC</th>\n",
       "      <th id=\"T_da349_level0_col3\" class=\"col_heading level0 col3\" >Recall</th>\n",
       "      <th id=\"T_da349_level0_col4\" class=\"col_heading level0 col4\" >Prec.</th>\n",
       "      <th id=\"T_da349_level0_col5\" class=\"col_heading level0 col5\" >F1</th>\n",
       "      <th id=\"T_da349_level0_col6\" class=\"col_heading level0 col6\" >Kappa</th>\n",
       "      <th id=\"T_da349_level0_col7\" class=\"col_heading level0 col7\" >MCC</th>\n",
       "      <th id=\"T_da349_level0_col8\" class=\"col_heading level0 col8\" >TT (Sec)</th>\n",
       "    </tr>\n",
       "  </thead>\n",
       "  <tbody>\n",
       "    <tr>\n",
       "      <th id=\"T_da349_level0_row0\" class=\"row_heading level0 row0\" >lr</th>\n",
       "      <td id=\"T_da349_row0_col0\" class=\"data row0 col0\" >Logistic Regression</td>\n",
       "      <td id=\"T_da349_row0_col1\" class=\"data row0 col1\" >0.7689</td>\n",
       "      <td id=\"T_da349_row0_col2\" class=\"data row0 col2\" >0.8047</td>\n",
       "      <td id=\"T_da349_row0_col3\" class=\"data row0 col3\" >0.5602</td>\n",
       "      <td id=\"T_da349_row0_col4\" class=\"data row0 col4\" >0.7208</td>\n",
       "      <td id=\"T_da349_row0_col5\" class=\"data row0 col5\" >0.6279</td>\n",
       "      <td id=\"T_da349_row0_col6\" class=\"data row0 col6\" >0.4641</td>\n",
       "      <td id=\"T_da349_row0_col7\" class=\"data row0 col7\" >0.4736</td>\n",
       "      <td id=\"T_da349_row0_col8\" class=\"data row0 col8\" >1.5630</td>\n",
       "    </tr>\n",
       "    <tr>\n",
       "      <th id=\"T_da349_level0_row1\" class=\"row_heading level0 row1\" >ridge</th>\n",
       "      <td id=\"T_da349_row1_col0\" class=\"data row1 col0\" >Ridge Classifier</td>\n",
       "      <td id=\"T_da349_row1_col1\" class=\"data row1 col1\" >0.7670</td>\n",
       "      <td id=\"T_da349_row1_col2\" class=\"data row1 col2\" >0.8060</td>\n",
       "      <td id=\"T_da349_row1_col3\" class=\"data row1 col3\" >0.5497</td>\n",
       "      <td id=\"T_da349_row1_col4\" class=\"data row1 col4\" >0.7235</td>\n",
       "      <td id=\"T_da349_row1_col5\" class=\"data row1 col5\" >0.6221</td>\n",
       "      <td id=\"T_da349_row1_col6\" class=\"data row1 col6\" >0.4581</td>\n",
       "      <td id=\"T_da349_row1_col7\" class=\"data row1 col7\" >0.4690</td>\n",
       "      <td id=\"T_da349_row1_col8\" class=\"data row1 col8\" >0.0170</td>\n",
       "    </tr>\n",
       "    <tr>\n",
       "      <th id=\"T_da349_level0_row2\" class=\"row_heading level0 row2\" >lda</th>\n",
       "      <td id=\"T_da349_row2_col0\" class=\"data row2 col0\" >Linear Discriminant Analysis</td>\n",
       "      <td id=\"T_da349_row2_col1\" class=\"data row2 col1\" >0.7670</td>\n",
       "      <td id=\"T_da349_row2_col2\" class=\"data row2 col2\" >0.8055</td>\n",
       "      <td id=\"T_da349_row2_col3\" class=\"data row2 col3\" >0.5550</td>\n",
       "      <td id=\"T_da349_row2_col4\" class=\"data row2 col4\" >0.7202</td>\n",
       "      <td id=\"T_da349_row2_col5\" class=\"data row2 col5\" >0.6243</td>\n",
       "      <td id=\"T_da349_row2_col6\" class=\"data row2 col6\" >0.4594</td>\n",
       "      <td id=\"T_da349_row2_col7\" class=\"data row2 col7\" >0.4695</td>\n",
       "      <td id=\"T_da349_row2_col8\" class=\"data row2 col8\" >0.0170</td>\n",
       "    </tr>\n",
       "    <tr>\n",
       "      <th id=\"T_da349_level0_row3\" class=\"row_heading level0 row3\" >rf</th>\n",
       "      <td id=\"T_da349_row3_col0\" class=\"data row3 col0\" >Random Forest Classifier</td>\n",
       "      <td id=\"T_da349_row3_col1\" class=\"data row3 col1\" >0.7485</td>\n",
       "      <td id=\"T_da349_row3_col2\" class=\"data row3 col2\" >0.7911</td>\n",
       "      <td id=\"T_da349_row3_col3\" class=\"data row3 col3\" >0.5284</td>\n",
       "      <td id=\"T_da349_row3_col4\" class=\"data row3 col4\" >0.6811</td>\n",
       "      <td id=\"T_da349_row3_col5\" class=\"data row3 col5\" >0.5924</td>\n",
       "      <td id=\"T_da349_row3_col6\" class=\"data row3 col6\" >0.4150</td>\n",
       "      <td id=\"T_da349_row3_col7\" class=\"data row3 col7\" >0.4238</td>\n",
       "      <td id=\"T_da349_row3_col8\" class=\"data row3 col8\" >0.1130</td>\n",
       "    </tr>\n",
       "    <tr>\n",
       "      <th id=\"T_da349_level0_row4\" class=\"row_heading level0 row4\" >nb</th>\n",
       "      <td id=\"T_da349_row4_col0\" class=\"data row4 col0\" >Naive Bayes</td>\n",
       "      <td id=\"T_da349_row4_col1\" class=\"data row4 col1\" >0.7427</td>\n",
       "      <td id=\"T_da349_row4_col2\" class=\"data row4 col2\" >0.7955</td>\n",
       "      <td id=\"T_da349_row4_col3\" class=\"data row4 col3\" >0.5702</td>\n",
       "      <td id=\"T_da349_row4_col4\" class=\"data row4 col4\" >0.6543</td>\n",
       "      <td id=\"T_da349_row4_col5\" class=\"data row4 col5\" >0.6043</td>\n",
       "      <td id=\"T_da349_row4_col6\" class=\"data row4 col6\" >0.4156</td>\n",
       "      <td id=\"T_da349_row4_col7\" class=\"data row4 col7\" >0.4215</td>\n",
       "      <td id=\"T_da349_row4_col8\" class=\"data row4 col8\" >0.0190</td>\n",
       "    </tr>\n",
       "    <tr>\n",
       "      <th id=\"T_da349_level0_row5\" class=\"row_heading level0 row5\" >gbc</th>\n",
       "      <td id=\"T_da349_row5_col0\" class=\"data row5 col0\" >Gradient Boosting Classifier</td>\n",
       "      <td id=\"T_da349_row5_col1\" class=\"data row5 col1\" >0.7373</td>\n",
       "      <td id=\"T_da349_row5_col2\" class=\"data row5 col2\" >0.7914</td>\n",
       "      <td id=\"T_da349_row5_col3\" class=\"data row5 col3\" >0.5550</td>\n",
       "      <td id=\"T_da349_row5_col4\" class=\"data row5 col4\" >0.6445</td>\n",
       "      <td id=\"T_da349_row5_col5\" class=\"data row5 col5\" >0.5931</td>\n",
       "      <td id=\"T_da349_row5_col6\" class=\"data row5 col6\" >0.4013</td>\n",
       "      <td id=\"T_da349_row5_col7\" class=\"data row5 col7\" >0.4059</td>\n",
       "      <td id=\"T_da349_row5_col8\" class=\"data row5 col8\" >0.0830</td>\n",
       "    </tr>\n",
       "    <tr>\n",
       "      <th id=\"T_da349_level0_row6\" class=\"row_heading level0 row6\" >ada</th>\n",
       "      <td id=\"T_da349_row6_col0\" class=\"data row6 col0\" >Ada Boost Classifier</td>\n",
       "      <td id=\"T_da349_row6_col1\" class=\"data row6 col1\" >0.7372</td>\n",
       "      <td id=\"T_da349_row6_col2\" class=\"data row6 col2\" >0.7799</td>\n",
       "      <td id=\"T_da349_row6_col3\" class=\"data row6 col3\" >0.5275</td>\n",
       "      <td id=\"T_da349_row6_col4\" class=\"data row6 col4\" >0.6585</td>\n",
       "      <td id=\"T_da349_row6_col5\" class=\"data row6 col5\" >0.5796</td>\n",
       "      <td id=\"T_da349_row6_col6\" class=\"data row6 col6\" >0.3926</td>\n",
       "      <td id=\"T_da349_row6_col7\" class=\"data row6 col7\" >0.4017</td>\n",
       "      <td id=\"T_da349_row6_col8\" class=\"data row6 col8\" >0.0590</td>\n",
       "    </tr>\n",
       "    <tr>\n",
       "      <th id=\"T_da349_level0_row7\" class=\"row_heading level0 row7\" >et</th>\n",
       "      <td id=\"T_da349_row7_col0\" class=\"data row7 col0\" >Extra Trees Classifier</td>\n",
       "      <td id=\"T_da349_row7_col1\" class=\"data row7 col1\" >0.7299</td>\n",
       "      <td id=\"T_da349_row7_col2\" class=\"data row7 col2\" >0.7788</td>\n",
       "      <td id=\"T_da349_row7_col3\" class=\"data row7 col3\" >0.4965</td>\n",
       "      <td id=\"T_da349_row7_col4\" class=\"data row7 col4\" >0.6516</td>\n",
       "      <td id=\"T_da349_row7_col5\" class=\"data row7 col5\" >0.5596</td>\n",
       "      <td id=\"T_da349_row7_col6\" class=\"data row7 col6\" >0.3706</td>\n",
       "      <td id=\"T_da349_row7_col7\" class=\"data row7 col7\" >0.3802</td>\n",
       "      <td id=\"T_da349_row7_col8\" class=\"data row7 col8\" >0.0930</td>\n",
       "    </tr>\n",
       "    <tr>\n",
       "      <th id=\"T_da349_level0_row8\" class=\"row_heading level0 row8\" >qda</th>\n",
       "      <td id=\"T_da349_row8_col0\" class=\"data row8 col0\" >Quadratic Discriminant Analysis</td>\n",
       "      <td id=\"T_da349_row8_col1\" class=\"data row8 col1\" >0.7282</td>\n",
       "      <td id=\"T_da349_row8_col2\" class=\"data row8 col2\" >0.7894</td>\n",
       "      <td id=\"T_da349_row8_col3\" class=\"data row8 col3\" >0.5281</td>\n",
       "      <td id=\"T_da349_row8_col4\" class=\"data row8 col4\" >0.6558</td>\n",
       "      <td id=\"T_da349_row8_col5\" class=\"data row8 col5\" >0.5736</td>\n",
       "      <td id=\"T_da349_row8_col6\" class=\"data row8 col6\" >0.3785</td>\n",
       "      <td id=\"T_da349_row8_col7\" class=\"data row8 col7\" >0.3910</td>\n",
       "      <td id=\"T_da349_row8_col8\" class=\"data row8 col8\" >0.0170</td>\n",
       "    </tr>\n",
       "    <tr>\n",
       "      <th id=\"T_da349_level0_row9\" class=\"row_heading level0 row9\" >lightgbm</th>\n",
       "      <td id=\"T_da349_row9_col0\" class=\"data row9 col0\" >Light Gradient Boosting Machine</td>\n",
       "      <td id=\"T_da349_row9_col1\" class=\"data row9 col1\" >0.7133</td>\n",
       "      <td id=\"T_da349_row9_col2\" class=\"data row9 col2\" >0.7645</td>\n",
       "      <td id=\"T_da349_row9_col3\" class=\"data row9 col3\" >0.5398</td>\n",
       "      <td id=\"T_da349_row9_col4\" class=\"data row9 col4\" >0.6036</td>\n",
       "      <td id=\"T_da349_row9_col5\" class=\"data row9 col5\" >0.5650</td>\n",
       "      <td id=\"T_da349_row9_col6\" class=\"data row9 col6\" >0.3534</td>\n",
       "      <td id=\"T_da349_row9_col7\" class=\"data row9 col7\" >0.3580</td>\n",
       "      <td id=\"T_da349_row9_col8\" class=\"data row9 col8\" >0.0730</td>\n",
       "    </tr>\n",
       "    <tr>\n",
       "      <th id=\"T_da349_level0_row10\" class=\"row_heading level0 row10\" >knn</th>\n",
       "      <td id=\"T_da349_row10_col0\" class=\"data row10 col0\" >K Neighbors Classifier</td>\n",
       "      <td id=\"T_da349_row10_col1\" class=\"data row10 col1\" >0.7001</td>\n",
       "      <td id=\"T_da349_row10_col2\" class=\"data row10 col2\" >0.7164</td>\n",
       "      <td id=\"T_da349_row10_col3\" class=\"data row10 col3\" >0.5020</td>\n",
       "      <td id=\"T_da349_row10_col4\" class=\"data row10 col4\" >0.5982</td>\n",
       "      <td id=\"T_da349_row10_col5\" class=\"data row10 col5\" >0.5413</td>\n",
       "      <td id=\"T_da349_row10_col6\" class=\"data row10 col6\" >0.3209</td>\n",
       "      <td id=\"T_da349_row10_col7\" class=\"data row10 col7\" >0.3271</td>\n",
       "      <td id=\"T_da349_row10_col8\" class=\"data row10 col8\" >0.0470</td>\n",
       "    </tr>\n",
       "    <tr>\n",
       "      <th id=\"T_da349_level0_row11\" class=\"row_heading level0 row11\" >dt</th>\n",
       "      <td id=\"T_da349_row11_col0\" class=\"data row11 col0\" >Decision Tree Classifier</td>\n",
       "      <td id=\"T_da349_row11_col1\" class=\"data row11 col1\" >0.6928</td>\n",
       "      <td id=\"T_da349_row11_col2\" class=\"data row11 col2\" >0.6512</td>\n",
       "      <td id=\"T_da349_row11_col3\" class=\"data row11 col3\" >0.5137</td>\n",
       "      <td id=\"T_da349_row11_col4\" class=\"data row11 col4\" >0.5636</td>\n",
       "      <td id=\"T_da349_row11_col5\" class=\"data row11 col5\" >0.5328</td>\n",
       "      <td id=\"T_da349_row11_col6\" class=\"data row11 col6\" >0.3070</td>\n",
       "      <td id=\"T_da349_row11_col7\" class=\"data row11 col7\" >0.3098</td>\n",
       "      <td id=\"T_da349_row11_col8\" class=\"data row11 col8\" >0.0220</td>\n",
       "    </tr>\n",
       "    <tr>\n",
       "      <th id=\"T_da349_level0_row12\" class=\"row_heading level0 row12\" >dummy</th>\n",
       "      <td id=\"T_da349_row12_col0\" class=\"data row12 col0\" >Dummy Classifier</td>\n",
       "      <td id=\"T_da349_row12_col1\" class=\"data row12 col1\" >0.6518</td>\n",
       "      <td id=\"T_da349_row12_col2\" class=\"data row12 col2\" >0.5000</td>\n",
       "      <td id=\"T_da349_row12_col3\" class=\"data row12 col3\" >0.0000</td>\n",
       "      <td id=\"T_da349_row12_col4\" class=\"data row12 col4\" >0.0000</td>\n",
       "      <td id=\"T_da349_row12_col5\" class=\"data row12 col5\" >0.0000</td>\n",
       "      <td id=\"T_da349_row12_col6\" class=\"data row12 col6\" >0.0000</td>\n",
       "      <td id=\"T_da349_row12_col7\" class=\"data row12 col7\" >0.0000</td>\n",
       "      <td id=\"T_da349_row12_col8\" class=\"data row12 col8\" >0.0140</td>\n",
       "    </tr>\n",
       "    <tr>\n",
       "      <th id=\"T_da349_level0_row13\" class=\"row_heading level0 row13\" >svm</th>\n",
       "      <td id=\"T_da349_row13_col0\" class=\"data row13 col0\" >SVM - Linear Kernel</td>\n",
       "      <td id=\"T_da349_row13_col1\" class=\"data row13 col1\" >0.5954</td>\n",
       "      <td id=\"T_da349_row13_col2\" class=\"data row13 col2\" >0.5914</td>\n",
       "      <td id=\"T_da349_row13_col3\" class=\"data row13 col3\" >0.3395</td>\n",
       "      <td id=\"T_da349_row13_col4\" class=\"data row13 col4\" >0.4090</td>\n",
       "      <td id=\"T_da349_row13_col5\" class=\"data row13 col5\" >0.2671</td>\n",
       "      <td id=\"T_da349_row13_col6\" class=\"data row13 col6\" >0.0720</td>\n",
       "      <td id=\"T_da349_row13_col7\" class=\"data row13 col7\" >0.0912</td>\n",
       "      <td id=\"T_da349_row13_col8\" class=\"data row13 col8\" >0.0160</td>\n",
       "    </tr>\n",
       "  </tbody>\n",
       "</table>\n"
      ],
      "text/plain": [
       "<pandas.io.formats.style.Styler at 0x27ff54cb350>"
      ]
     },
     "metadata": {},
     "output_type": "display_data"
    },
    {
     "data": {
      "text/html": [],
      "text/plain": [
       "<IPython.core.display.HTML object>"
      ]
     },
     "metadata": {},
     "output_type": "display_data"
    }
   ],
   "source": [
    "# Comparar modelos\n",
    "best_model = compare_models()"
   ]
  },
  {
   "cell_type": "code",
   "execution_count": 22,
   "id": "2e9965a5",
   "metadata": {},
   "outputs": [
    {
     "data": {
      "text/html": [],
      "text/plain": [
       "<IPython.core.display.HTML object>"
      ]
     },
     "metadata": {},
     "output_type": "display_data"
    },
    {
     "data": {
      "text/html": [
       "<style type=\"text/css\">\n",
       "#T_10618_row10_col0, #T_10618_row10_col1, #T_10618_row10_col2, #T_10618_row10_col3, #T_10618_row10_col4, #T_10618_row10_col5, #T_10618_row10_col6 {\n",
       "  background: yellow;\n",
       "}\n",
       "</style>\n",
       "<table id=\"T_10618\">\n",
       "  <thead>\n",
       "    <tr>\n",
       "      <th class=\"blank level0\" >&nbsp;</th>\n",
       "      <th id=\"T_10618_level0_col0\" class=\"col_heading level0 col0\" >Accuracy</th>\n",
       "      <th id=\"T_10618_level0_col1\" class=\"col_heading level0 col1\" >AUC</th>\n",
       "      <th id=\"T_10618_level0_col2\" class=\"col_heading level0 col2\" >Recall</th>\n",
       "      <th id=\"T_10618_level0_col3\" class=\"col_heading level0 col3\" >Prec.</th>\n",
       "      <th id=\"T_10618_level0_col4\" class=\"col_heading level0 col4\" >F1</th>\n",
       "      <th id=\"T_10618_level0_col5\" class=\"col_heading level0 col5\" >Kappa</th>\n",
       "      <th id=\"T_10618_level0_col6\" class=\"col_heading level0 col6\" >MCC</th>\n",
       "    </tr>\n",
       "    <tr>\n",
       "      <th class=\"index_name level0\" >Fold</th>\n",
       "      <th class=\"blank col0\" >&nbsp;</th>\n",
       "      <th class=\"blank col1\" >&nbsp;</th>\n",
       "      <th class=\"blank col2\" >&nbsp;</th>\n",
       "      <th class=\"blank col3\" >&nbsp;</th>\n",
       "      <th class=\"blank col4\" >&nbsp;</th>\n",
       "      <th class=\"blank col5\" >&nbsp;</th>\n",
       "      <th class=\"blank col6\" >&nbsp;</th>\n",
       "    </tr>\n",
       "  </thead>\n",
       "  <tbody>\n",
       "    <tr>\n",
       "      <th id=\"T_10618_level0_row0\" class=\"row_heading level0 row0\" >0</th>\n",
       "      <td id=\"T_10618_row0_col0\" class=\"data row0 col0\" >0.8704</td>\n",
       "      <td id=\"T_10618_row0_col1\" class=\"data row0 col1\" >0.8992</td>\n",
       "      <td id=\"T_10618_row0_col2\" class=\"data row0 col2\" >0.7368</td>\n",
       "      <td id=\"T_10618_row0_col3\" class=\"data row0 col3\" >0.8750</td>\n",
       "      <td id=\"T_10618_row0_col4\" class=\"data row0 col4\" >0.8000</td>\n",
       "      <td id=\"T_10618_row0_col5\" class=\"data row0 col5\" >0.7051</td>\n",
       "      <td id=\"T_10618_row0_col6\" class=\"data row0 col6\" >0.7108</td>\n",
       "    </tr>\n",
       "    <tr>\n",
       "      <th id=\"T_10618_level0_row1\" class=\"row_heading level0 row1\" >1</th>\n",
       "      <td id=\"T_10618_row1_col0\" class=\"data row1 col0\" >0.8148</td>\n",
       "      <td id=\"T_10618_row1_col1\" class=\"data row1 col1\" >0.7850</td>\n",
       "      <td id=\"T_10618_row1_col2\" class=\"data row1 col2\" >0.6316</td>\n",
       "      <td id=\"T_10618_row1_col3\" class=\"data row1 col3\" >0.8000</td>\n",
       "      <td id=\"T_10618_row1_col4\" class=\"data row1 col4\" >0.7059</td>\n",
       "      <td id=\"T_10618_row1_col5\" class=\"data row1 col5\" >0.5735</td>\n",
       "      <td id=\"T_10618_row1_col6\" class=\"data row1 col6\" >0.5820</td>\n",
       "    </tr>\n",
       "    <tr>\n",
       "      <th id=\"T_10618_level0_row2\" class=\"row_heading level0 row2\" >2</th>\n",
       "      <td id=\"T_10618_row2_col0\" class=\"data row2 col0\" >0.8704</td>\n",
       "      <td id=\"T_10618_row2_col1\" class=\"data row2 col1\" >0.9353</td>\n",
       "      <td id=\"T_10618_row2_col2\" class=\"data row2 col2\" >0.6842</td>\n",
       "      <td id=\"T_10618_row2_col3\" class=\"data row2 col3\" >0.9286</td>\n",
       "      <td id=\"T_10618_row2_col4\" class=\"data row2 col4\" >0.7879</td>\n",
       "      <td id=\"T_10618_row2_col5\" class=\"data row2 col5\" >0.6976</td>\n",
       "      <td id=\"T_10618_row2_col6\" class=\"data row2 col6\" >0.7145</td>\n",
       "    </tr>\n",
       "    <tr>\n",
       "      <th id=\"T_10618_level0_row3\" class=\"row_heading level0 row3\" >3</th>\n",
       "      <td id=\"T_10618_row3_col0\" class=\"data row3 col0\" >0.7222</td>\n",
       "      <td id=\"T_10618_row3_col1\" class=\"data row3 col1\" >0.7744</td>\n",
       "      <td id=\"T_10618_row3_col2\" class=\"data row3 col2\" >0.4737</td>\n",
       "      <td id=\"T_10618_row3_col3\" class=\"data row3 col3\" >0.6429</td>\n",
       "      <td id=\"T_10618_row3_col4\" class=\"data row3 col4\" >0.5455</td>\n",
       "      <td id=\"T_10618_row3_col5\" class=\"data row3 col5\" >0.3520</td>\n",
       "      <td id=\"T_10618_row3_col6\" class=\"data row3 col6\" >0.3605</td>\n",
       "    </tr>\n",
       "    <tr>\n",
       "      <th id=\"T_10618_level0_row4\" class=\"row_heading level0 row4\" >4</th>\n",
       "      <td id=\"T_10618_row4_col0\" class=\"data row4 col0\" >0.8704</td>\n",
       "      <td id=\"T_10618_row4_col1\" class=\"data row4 col1\" >0.9113</td>\n",
       "      <td id=\"T_10618_row4_col2\" class=\"data row4 col2\" >0.6842</td>\n",
       "      <td id=\"T_10618_row4_col3\" class=\"data row4 col3\" >0.9286</td>\n",
       "      <td id=\"T_10618_row4_col4\" class=\"data row4 col4\" >0.7879</td>\n",
       "      <td id=\"T_10618_row4_col5\" class=\"data row4 col5\" >0.6976</td>\n",
       "      <td id=\"T_10618_row4_col6\" class=\"data row4 col6\" >0.7145</td>\n",
       "    </tr>\n",
       "    <tr>\n",
       "      <th id=\"T_10618_level0_row5\" class=\"row_heading level0 row5\" >5</th>\n",
       "      <td id=\"T_10618_row5_col0\" class=\"data row5 col0\" >0.6481</td>\n",
       "      <td id=\"T_10618_row5_col1\" class=\"data row5 col1\" >0.6662</td>\n",
       "      <td id=\"T_10618_row5_col2\" class=\"data row5 col2\" >0.3684</td>\n",
       "      <td id=\"T_10618_row5_col3\" class=\"data row5 col3\" >0.5000</td>\n",
       "      <td id=\"T_10618_row5_col4\" class=\"data row5 col4\" >0.4242</td>\n",
       "      <td id=\"T_10618_row5_col5\" class=\"data row5 col5\" >0.1792</td>\n",
       "      <td id=\"T_10618_row5_col6\" class=\"data row5 col6\" >0.1835</td>\n",
       "    </tr>\n",
       "    <tr>\n",
       "      <th id=\"T_10618_level0_row6\" class=\"row_heading level0 row6\" >6</th>\n",
       "      <td id=\"T_10618_row6_col0\" class=\"data row6 col0\" >0.7407</td>\n",
       "      <td id=\"T_10618_row6_col1\" class=\"data row6 col1\" >0.8030</td>\n",
       "      <td id=\"T_10618_row6_col2\" class=\"data row6 col2\" >0.5789</td>\n",
       "      <td id=\"T_10618_row6_col3\" class=\"data row6 col3\" >0.6471</td>\n",
       "      <td id=\"T_10618_row6_col4\" class=\"data row6 col4\" >0.6111</td>\n",
       "      <td id=\"T_10618_row6_col5\" class=\"data row6 col5\" >0.4176</td>\n",
       "      <td id=\"T_10618_row6_col6\" class=\"data row6 col6\" >0.4190</td>\n",
       "    </tr>\n",
       "    <tr>\n",
       "      <th id=\"T_10618_level0_row7\" class=\"row_heading level0 row7\" >7</th>\n",
       "      <td id=\"T_10618_row7_col0\" class=\"data row7 col0\" >0.7736</td>\n",
       "      <td id=\"T_10618_row7_col1\" class=\"data row7 col1\" >0.8746</td>\n",
       "      <td id=\"T_10618_row7_col2\" class=\"data row7 col2\" >0.4444</td>\n",
       "      <td id=\"T_10618_row7_col3\" class=\"data row7 col3\" >0.8000</td>\n",
       "      <td id=\"T_10618_row7_col4\" class=\"data row7 col4\" >0.5714</td>\n",
       "      <td id=\"T_10618_row7_col5\" class=\"data row7 col5\" >0.4342</td>\n",
       "      <td id=\"T_10618_row7_col6\" class=\"data row7 col6\" >0.4688</td>\n",
       "    </tr>\n",
       "    <tr>\n",
       "      <th id=\"T_10618_level0_row8\" class=\"row_heading level0 row8\" >8</th>\n",
       "      <td id=\"T_10618_row8_col0\" class=\"data row8 col0\" >0.6604</td>\n",
       "      <td id=\"T_10618_row8_col1\" class=\"data row8 col1\" >0.6778</td>\n",
       "      <td id=\"T_10618_row8_col2\" class=\"data row8 col2\" >0.4444</td>\n",
       "      <td id=\"T_10618_row8_col3\" class=\"data row8 col3\" >0.5000</td>\n",
       "      <td id=\"T_10618_row8_col4\" class=\"data row8 col4\" >0.4706</td>\n",
       "      <td id=\"T_10618_row8_col5\" class=\"data row8 col5\" >0.2219</td>\n",
       "      <td id=\"T_10618_row8_col6\" class=\"data row8 col6\" >0.2227</td>\n",
       "    </tr>\n",
       "    <tr>\n",
       "      <th id=\"T_10618_level0_row9\" class=\"row_heading level0 row9\" >9</th>\n",
       "      <td id=\"T_10618_row9_col0\" class=\"data row9 col0\" >0.7547</td>\n",
       "      <td id=\"T_10618_row9_col1\" class=\"data row9 col1\" >0.7143</td>\n",
       "      <td id=\"T_10618_row9_col2\" class=\"data row9 col2\" >0.5556</td>\n",
       "      <td id=\"T_10618_row9_col3\" class=\"data row9 col3\" >0.6667</td>\n",
       "      <td id=\"T_10618_row9_col4\" class=\"data row9 col4\" >0.6061</td>\n",
       "      <td id=\"T_10618_row9_col5\" class=\"data row9 col5\" >0.4301</td>\n",
       "      <td id=\"T_10618_row9_col6\" class=\"data row9 col6\" >0.4339</td>\n",
       "    </tr>\n",
       "    <tr>\n",
       "      <th id=\"T_10618_level0_row10\" class=\"row_heading level0 row10\" >Mean</th>\n",
       "      <td id=\"T_10618_row10_col0\" class=\"data row10 col0\" >0.7726</td>\n",
       "      <td id=\"T_10618_row10_col1\" class=\"data row10 col1\" >0.8041</td>\n",
       "      <td id=\"T_10618_row10_col2\" class=\"data row10 col2\" >0.5602</td>\n",
       "      <td id=\"T_10618_row10_col3\" class=\"data row10 col3\" >0.7289</td>\n",
       "      <td id=\"T_10618_row10_col4\" class=\"data row10 col4\" >0.6311</td>\n",
       "      <td id=\"T_10618_row10_col5\" class=\"data row10 col5\" >0.4709</td>\n",
       "      <td id=\"T_10618_row10_col6\" class=\"data row10 col6\" >0.4810</td>\n",
       "    </tr>\n",
       "    <tr>\n",
       "      <th id=\"T_10618_level0_row11\" class=\"row_heading level0 row11\" >Std</th>\n",
       "      <td id=\"T_10618_row11_col0\" class=\"data row11 col0\" >0.0790</td>\n",
       "      <td id=\"T_10618_row11_col1\" class=\"data row11 col1\" >0.0933</td>\n",
       "      <td id=\"T_10618_row11_col2\" class=\"data row11 col2\" >0.1177</td>\n",
       "      <td id=\"T_10618_row11_col3\" class=\"data row11 col3\" >0.1530</td>\n",
       "      <td id=\"T_10618_row11_col4\" class=\"data row11 col4\" >0.1280</td>\n",
       "      <td id=\"T_10618_row11_col5\" class=\"data row11 col5\" >0.1831</td>\n",
       "      <td id=\"T_10618_row11_col6\" class=\"data row11 col6\" >0.1865</td>\n",
       "    </tr>\n",
       "  </tbody>\n",
       "</table>\n"
      ],
      "text/plain": [
       "<pandas.io.formats.style.Styler at 0x27fef10c490>"
      ]
     },
     "metadata": {},
     "output_type": "display_data"
    },
    {
     "data": {
      "text/html": [],
      "text/plain": [
       "<IPython.core.display.HTML object>"
      ]
     },
     "metadata": {},
     "output_type": "display_data"
    },
    {
     "name": "stdout",
     "output_type": "stream",
     "text": [
      "Fitting 10 folds for each of 10 candidates, totalling 100 fits\n"
     ]
    }
   ],
   "source": [
    "# Ajuste de hiperparámetros para el mejor modelo\n",
    "best_model_tuned = tune_model(best_model)"
   ]
  },
  {
   "cell_type": "code",
   "execution_count": 23,
   "id": "a644f3a1",
   "metadata": {},
   "outputs": [
    {
     "data": {
      "application/vnd.jupyter.widget-view+json": {
       "model_id": "97dea7f94fad4089ba6ce4daa05d0013",
       "version_major": 2,
       "version_minor": 0
      },
      "text/plain": [
       "interactive(children=(ToggleButtons(description='Plot Type:', icons=('',), options=(('Pipeline Plot', 'pipelin…"
      ]
     },
     "metadata": {},
     "output_type": "display_data"
    }
   ],
   "source": [
    "# Evaluar el modelo\n",
    "evaluate_model(best_model_tuned)"
   ]
  },
  {
   "cell_type": "code",
   "execution_count": 24,
   "id": "aa8e99fd",
   "metadata": {},
   "outputs": [
    {
     "name": "stdout",
     "output_type": "stream",
     "text": [
      "Transformation Pipeline and Model Successfully Saved\n"
     ]
    },
    {
     "data": {
      "text/plain": [
       "(Pipeline(memory=Memory(location=None),\n",
       "          steps=[('numerical_imputer',\n",
       "                  TransformerWrapper(exclude=None,\n",
       "                                     include=['Pregnancies', 'Glucose',\n",
       "                                              'BloodPressure', 'SkinThickness',\n",
       "                                              'Insulin', 'BMI',\n",
       "                                              'DiabetesPedigreeFunction',\n",
       "                                              'Age'],\n",
       "                                     transformer=SimpleImputer(add_indicator=False,\n",
       "                                                               copy=True,\n",
       "                                                               fill_value=None,\n",
       "                                                               keep_empty_features=False,\n",
       "                                                               missing_values=nan,\n",
       "                                                               strategy='mean'))),\n",
       "                 (...\n",
       "                                                               fill_value=None,\n",
       "                                                               keep_empty_features=False,\n",
       "                                                               missing_values=nan,\n",
       "                                                               strategy='most_frequent'))),\n",
       "                 ('actual_estimator',\n",
       "                  LogisticRegression(C=7.863, class_weight={}, dual=False,\n",
       "                                     fit_intercept=True, intercept_scaling=1,\n",
       "                                     l1_ratio=None, max_iter=1000,\n",
       "                                     multi_class='auto', n_jobs=None,\n",
       "                                     penalty='l2', random_state=123,\n",
       "                                     solver='lbfgs', tol=0.0001, verbose=0,\n",
       "                                     warm_start=False))],\n",
       "          verbose=False),\n",
       " 'final_model_diabetes.pkl')"
      ]
     },
     "execution_count": 24,
     "metadata": {},
     "output_type": "execute_result"
    }
   ],
   "source": [
    "# Finalizar el modelo y guardarlo\n",
    "final_model = finalize_model(best_model_tuned)\n",
    "save_model(final_model, model_name='final_model_diabetes')"
   ]
  },
  {
   "cell_type": "markdown",
   "id": "aa472c0b",
   "metadata": {},
   "source": [
    "#### Opcional: Guardar el modelo en la carpeta 'modelos_clf'"
   ]
  },
  {
   "cell_type": "code",
   "execution_count": 25,
   "id": "46419aff",
   "metadata": {},
   "outputs": [
    {
     "name": "stdout",
     "output_type": "stream",
     "text": [
      "Transformation Pipeline and Model Successfully Saved\n"
     ]
    },
    {
     "data": {
      "text/plain": [
       "(Pipeline(memory=Memory(location=None),\n",
       "          steps=[('numerical_imputer',\n",
       "                  TransformerWrapper(exclude=None,\n",
       "                                     include=['Pregnancies', 'Glucose',\n",
       "                                              'BloodPressure', 'SkinThickness',\n",
       "                                              'Insulin', 'BMI',\n",
       "                                              'DiabetesPedigreeFunction',\n",
       "                                              'Age'],\n",
       "                                     transformer=SimpleImputer(add_indicator=False,\n",
       "                                                               copy=True,\n",
       "                                                               fill_value=None,\n",
       "                                                               keep_empty_features=False,\n",
       "                                                               missing_values=nan,\n",
       "                                                               strategy='mean'))),\n",
       "                 (...\n",
       "                                                               fill_value=None,\n",
       "                                                               keep_empty_features=False,\n",
       "                                                               missing_values=nan,\n",
       "                                                               strategy='most_frequent'))),\n",
       "                 ('actual_estimator',\n",
       "                  LogisticRegression(C=7.863, class_weight={}, dual=False,\n",
       "                                     fit_intercept=True, intercept_scaling=1,\n",
       "                                     l1_ratio=None, max_iter=1000,\n",
       "                                     multi_class='auto', n_jobs=None,\n",
       "                                     penalty='l2', random_state=123,\n",
       "                                     solver='lbfgs', tol=0.0001, verbose=0,\n",
       "                                     warm_start=False))],\n",
       "          verbose=False),\n",
       " 'modelos_clf/final_model_diabetes.pkl')"
      ]
     },
     "execution_count": 25,
     "metadata": {},
     "output_type": "execute_result"
    }
   ],
   "source": [
    "import os\n",
    "os.makedirs('modelos_clf', exist_ok=True)\n",
    "save_model(final_model, model_name='modelos_clf/final_model_diabetes')"
   ]
  }
 ],
 "metadata": {
  "kernelspec": {
   "display_name": "base",
   "language": "python",
   "name": "python3"
  },
  "language_info": {
   "codemirror_mode": {
    "name": "ipython",
    "version": 3
   },
   "file_extension": ".py",
   "mimetype": "text/x-python",
   "name": "python",
   "nbconvert_exporter": "python",
   "pygments_lexer": "ipython3",
   "version": "3.11.5"
  }
 },
 "nbformat": 4,
 "nbformat_minor": 5
}
